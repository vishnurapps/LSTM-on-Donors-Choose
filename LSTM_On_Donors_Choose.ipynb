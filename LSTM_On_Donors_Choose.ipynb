{
  "nbformat": 4,
  "nbformat_minor": 0,
  "metadata": {
    "colab": {
      "name": "front.ipynb",
      "provenance": [],
      "collapsed_sections": [
        "FACWWSZXpdUY",
        "31MSXhlCpdUZ",
        "m3A0-eHFpdUc",
        "d0MRbILdpdUe",
        "yHkIu6gbpdUj",
        "53C-64FJpdU5",
        "tlRd4hNVpdU7",
        "y_FzTE6qpdU8",
        "ZXD4rUaDpdU-",
        "La_qxzv4pdU_"
      ],
      "include_colab_link": true
    },
    "kernelspec": {
      "name": "python3",
      "display_name": "Python 3"
    },
    "language_info": {
      "codemirror_mode": {
        "name": "ipython",
        "version": 3
      },
      "file_extension": ".py",
      "mimetype": "text/x-python",
      "name": "python",
      "nbconvert_exporter": "python",
      "pygments_lexer": "ipython3",
      "version": "3.6.6"
    },
    "accelerator": "GPU"
  },
  "cells": [
    {
      "cell_type": "markdown",
      "metadata": {
        "id": "view-in-github",
        "colab_type": "text"
      },
      "source": [
        "<a href=\"https://colab.research.google.com/github/vishnurapps/LSTM-on-Donors-Choose/blob/master/LSTM_On_Donors_Choose.ipynb\" target=\"_parent\"><img src=\"https://colab.research.google.com/assets/colab-badge.svg\" alt=\"Open In Colab\"/></a>"
      ]
    },
    {
      "cell_type": "markdown",
      "metadata": {
        "colab_type": "text",
        "id": "Tfl_Mt5IpdTE"
      },
      "source": [
        "# DonorsChoose"
      ]
    },
    {
      "cell_type": "markdown",
      "metadata": {
        "colab_type": "text",
        "id": "zPv-04PipdTH"
      },
      "source": [
        "<p>\n",
        "DonorsChoose.org receives hundreds of thousands of project proposals each year for classroom projects in need of funding. Right now, a large number of volunteers is needed to manually screen each submission before it's approved to be posted on the DonorsChoose.org website.\n",
        "</p>\n",
        "<p>\n",
        "    Next year, DonorsChoose.org expects to receive close to 500,000 project proposals. As a result, there are three main problems they need to solve:\n",
        "<ul>\n",
        "<li>\n",
        "    How to scale current manual processes and resources to screen 500,000 projects so that they can be posted as quickly and as efficiently as possible</li>\n",
        "    <li>How to increase the consistency of project vetting across different volunteers to improve the experience for teachers</li>\n",
        "    <li>How to focus volunteer time on the applications that need the most assistance</li>\n",
        "    </ul>\n",
        "</p>    \n",
        "<p>\n",
        "The goal of the competition is to predict whether or not a DonorsChoose.org project proposal submitted by a teacher will be approved, using the text of project descriptions as well as additional metadata about the project, teacher, and school. DonorsChoose.org can then use this information to identify projects most likely to need further review before approval.\n",
        "</p>"
      ]
    },
    {
      "cell_type": "markdown",
      "metadata": {
        "colab_type": "text",
        "id": "fVyva7F1pdTK"
      },
      "source": [
        "## About the DonorsChoose Data Set\n",
        "\n",
        "The `train.csv` data set provided by DonorsChoose contains the following features:\n",
        "\n",
        "Feature | Description \n",
        "----------|---------------\n",
        "**`project_id`** | A unique identifier for the proposed project. **Example:** `p036502`   \n",
        "**`project_title`**    | Title of the project. **Examples:**<br><ul><li><code>Art Will Make You Happy!</code></li><li><code>First Grade Fun</code></li></ul> \n",
        "**`project_grade_category`** | Grade level of students for which the project is targeted. One of the following enumerated values: <br/><ul><li><code>Grades PreK-2</code></li><li><code>Grades 3-5</code></li><li><code>Grades 6-8</code></li><li><code>Grades 9-12</code></li></ul>  \n",
        " **`project_subject_categories`** | One or more (comma-separated) subject categories for the project from the following enumerated list of values:  <br/><ul><li><code>Applied Learning</code></li><li><code>Care &amp; Hunger</code></li><li><code>Health &amp; Sports</code></li><li><code>History &amp; Civics</code></li><li><code>Literacy &amp; Language</code></li><li><code>Math &amp; Science</code></li><li><code>Music &amp; The Arts</code></li><li><code>Special Needs</code></li><li><code>Warmth</code></li></ul><br/> **Examples:** <br/><ul><li><code>Music &amp; The Arts</code></li><li><code>Literacy &amp; Language, Math &amp; Science</code></li>  \n",
        "  **`school_state`** | State where school is located ([Two-letter U.S. postal code](https://en.wikipedia.org/wiki/List_of_U.S._state_abbreviations#Postal_codes)). **Example:** `WY`\n",
        "**`project_subject_subcategories`** | One or more (comma-separated) subject subcategories for the project. **Examples:** <br/><ul><li><code>Literacy</code></li><li><code>Literature &amp; Writing, Social Sciences</code></li></ul> \n",
        "**`project_resource_summary`** | An explanation of the resources needed for the project. **Example:** <br/><ul><li><code>My students need hands on literacy materials to manage sensory needs!</code</li></ul> \n",
        "**`project_essay_1`**    | First application essay<sup>*</sup>  \n",
        "**`project_essay_2`**    | Second application essay<sup>*</sup> \n",
        "**`project_essay_3`**    | Third application essay<sup>*</sup> \n",
        "**`project_essay_4`**    | Fourth application essay<sup>*</sup> \n",
        "**`project_submitted_datetime`** | Datetime when project application was submitted. **Example:** `2016-04-28 12:43:56.245`   \n",
        "**`teacher_id`** | A unique identifier for the teacher of the proposed project. **Example:** `bdf8baa8fedef6bfeec7ae4ff1c15c56`  \n",
        "**`teacher_prefix`** | Teacher's title. One of the following enumerated values: <br/><ul><li><code>nan</code></li><li><code>Dr.</code></li><li><code>Mr.</code></li><li><code>Mrs.</code></li><li><code>Ms.</code></li><li><code>Teacher.</code></li></ul>  \n",
        "**`teacher_number_of_previously_posted_projects`** | Number of project applications previously submitted by the same teacher. **Example:** `2` \n",
        "\n",
        "<sup>*</sup> See the section <b>Notes on the Essay Data</b> for more details about these features.\n",
        "\n",
        "Additionally, the `resources.csv` data set provides more data about the resources required for each project. Each line in this file represents a resource required by a project:\n",
        "\n",
        "Feature | Description \n",
        "----------|---------------\n",
        "**`id`** | A `project_id` value from the `train.csv` file.  **Example:** `p036502`   \n",
        "**`description`** | Desciption of the resource. **Example:** `Tenor Saxophone Reeds, Box of 25`   \n",
        "**`quantity`** | Quantity of the resource required. **Example:** `3`   \n",
        "**`price`** | Price of the resource required. **Example:** `9.95`   \n",
        "\n",
        "**Note:** Many projects require multiple resources. The `id` value corresponds to a `project_id` in train.csv, so you use it as a key to retrieve all resources needed for a project:\n",
        "\n",
        "The data set contains the following label (the value you will attempt to predict):\n",
        "\n",
        "Label | Description\n",
        "----------|---------------\n",
        "`project_is_approved` | A binary flag indicating whether DonorsChoose approved the project. A value of `0` indicates the project was not approved, and a value of `1` indicates the project was approved."
      ]
    },
    {
      "cell_type": "markdown",
      "metadata": {
        "colab_type": "text",
        "id": "aUWd8jwjpdTO"
      },
      "source": [
        "### Notes on the Essay Data\n",
        "\n",
        "<ul>\n",
        "Prior to May 17, 2016, the prompts for the essays were as follows:\n",
        "<li>__project_essay_1:__ \"Introduce us to your classroom\"</li>\n",
        "<li>__project_essay_2:__ \"Tell us more about your students\"</li>\n",
        "<li>__project_essay_3:__ \"Describe how your students will use the materials you're requesting\"</li>\n",
        "<li>__project_essay_3:__ \"Close by sharing why your project will make a difference\"</li>\n",
        "</ul>\n",
        "\n",
        "\n",
        "<ul>\n",
        "Starting on May 17, 2016, the number of essays was reduced from 4 to 2, and the prompts for the first 2 essays were changed to the following:<br>\n",
        "<li>__project_essay_1:__ \"Describe your students: What makes your students special? Specific details about their background, your neighborhood, and your school are all helpful.\"</li>\n",
        "<li>__project_essay_2:__ \"About your project: How will these materials make a difference in your students' learning and improve their school lives?\"</li>\n",
        "<br>For all projects with project_submitted_datetime of 2016-05-17 and later, the values of project_essay_3 and project_essay_4 will be NaN.\n",
        "</ul>\n"
      ]
    },
    {
      "cell_type": "code",
      "metadata": {
        "colab_type": "code",
        "id": "bq-I4gTiOh8B",
        "outputId": "446c930a-b5c4-4177-deda-d2b789b8ccf0",
        "colab": {
          "base_uri": "https://localhost:8080/",
          "height": 50
        }
      },
      "source": [
        "%matplotlib inline\n",
        "import warnings\n",
        "warnings.filterwarnings(\"ignore\")\n",
        "\n",
        "import sqlite3\n",
        "import pandas as pd\n",
        "import numpy as np\n",
        "import nltk\n",
        "import string\n",
        "import matplotlib.pyplot as plt\n",
        "import seaborn as sns\n",
        "from sklearn.feature_extraction.text import TfidfTransformer\n",
        "from sklearn.feature_extraction.text import TfidfVectorizer\n",
        "from sklearn.preprocessing import MinMaxScaler\n",
        "from sklearn.feature_extraction.text import CountVectorizer\n",
        "from sklearn.metrics import confusion_matrix\n",
        "from sklearn import metrics\n",
        "from sklearn.metrics import roc_curve, auc\n",
        "from nltk.stem.porter import PorterStemmer\n",
        "from sklearn.model_selection import train_test_split\n",
        "import re\n",
        "import string\n",
        "from nltk.corpus import stopwords\n",
        "from nltk.stem import PorterStemmer\n",
        "from nltk.stem.wordnet import WordNetLemmatizer\n",
        "import random\n",
        "from gensim.models import Word2Vec\n",
        "from gensim.models import KeyedVectors\n",
        "import pickle\n",
        "from sklearn.model_selection import RandomizedSearchCV\n",
        "from sklearn.naive_bayes import MultinomialNB\n",
        "from sklearn.model_selection import GridSearchCV\n",
        "import math\n",
        "from tqdm import tqdm\n",
        "import os\n",
        "from scipy.sparse import hstack, csr_matrix\n",
        "from sklearn.linear_model import LogisticRegression\n",
        "from sklearn.metrics import roc_auc_score\n",
        "from collections import Counter\n",
        "from sklearn.feature_selection import SelectKBest\n",
        "from sklearn.feature_selection import chi2\n",
        "from prettytable import PrettyTable\n",
        "import nltk\n",
        "from nltk.sentiment.vader import SentimentIntensityAnalyzer\n",
        "nltk.download('vader_lexicon')\n",
        "import xgboost as xgb\n",
        "from sklearn.ensemble import RandomForestClassifier\n",
        "from sklearn.preprocessing import LabelEncoder"
      ],
      "execution_count": 72,
      "outputs": [
        {
          "output_type": "stream",
          "text": [
            "[nltk_data] Downloading package vader_lexicon to /root/nltk_data...\n",
            "[nltk_data]   Package vader_lexicon is already up-to-date!\n"
          ],
          "name": "stdout"
        }
      ]
    },
    {
      "cell_type": "markdown",
      "metadata": {
        "colab_type": "text",
        "id": "zLR1LA2oOh8L"
      },
      "source": [
        "## 1.1 Reading Data"
      ]
    },
    {
      "cell_type": "code",
      "metadata": {
        "colab_type": "code",
        "id": "abtcqBS8CymT",
        "colab": {}
      },
      "source": [
        "##colab\n",
        "# Run this cell and select the kaggle.json file downloaded\n",
        "# from the Kaggle account settings page.\n",
        "from google.colab import files\n",
        "files.upload()"
      ],
      "execution_count": 0,
      "outputs": []
    },
    {
      "cell_type": "code",
      "metadata": {
        "colab_type": "code",
        "id": "sBXP_LmQePut",
        "outputId": "c5f7e522-6b3d-4b70-a07c-d1fb6af5415a",
        "colab": {
          "base_uri": "https://localhost:8080/",
          "height": 66
        }
      },
      "source": [
        "!pip install -q kaggle\n",
        "# The Kaggle API client expects this file to be in ~/.kaggle,\n",
        "# so move it there.\n",
        "!mkdir -p ~/.kaggle\n",
        "!cp kaggle.json ~/.kaggle/\n",
        "\n",
        "# This permissions change avoids a warning on Kaggle tool startup.\n",
        "!chmod 600 ~/.kaggle/kaggle.json\n",
        "!kaggle datasets download -d atifimam/donors-chose\n",
        "!unzip /content/donors-chose.zip\n",
        "\n",
        "train_data=\"/content/train_data.csv\"\n",
        "resources=\"/content/resources.csv\"\n",
        "glove_vectors=\"/content/glove_vectors\""
      ],
      "execution_count": 75,
      "outputs": [
        {
          "output_type": "stream",
          "text": [
            "donors-chose.zip: Skipping, found more recently modified local copy (use --force to force download)\n",
            "Archive:  /content/donors-chose.zip\n",
            "replace glove_vectors? [y]es, [n]o, [A]ll, [N]one, [r]ename: N\n"
          ],
          "name": "stdout"
        }
      ]
    },
    {
      "cell_type": "code",
      "metadata": {
        "colab_type": "code",
        "id": "jdXETSUJePuz",
        "colab": {}
      },
      "source": [
        "# #kaggle\n",
        "# train_data=\"/kaggle/input/donors-chose/train_data.csv\"\n",
        "# resources=\"/kaggle/input/donors-chose/resources.csv\"\n",
        "# glove_vectors=\"/kaggle/input/donors-chose/glove_vectors\""
      ],
      "execution_count": 0,
      "outputs": []
    },
    {
      "cell_type": "code",
      "metadata": {
        "colab_type": "code",
        "id": "6WssoLH4ePu3",
        "colab": {}
      },
      "source": [
        "# ##oakwood\n",
        "# train_data=\"../Donor Choose/train_data.csv\"\n",
        "# resources=\"../Donor Choose/resources.csv\"\n",
        "# glove_vectors=\"../Donor Choose/glove_vectors\""
      ],
      "execution_count": 0,
      "outputs": []
    },
    {
      "cell_type": "code",
      "metadata": {
        "colab_type": "code",
        "id": "h_7d8KKsOh8M",
        "colab": {}
      },
      "source": [
        "project_data = pd.read_csv(train_data)\n",
        "resource_data = pd.read_csv(resources)"
      ],
      "execution_count": 0,
      "outputs": []
    },
    {
      "cell_type": "code",
      "metadata": {
        "colab_type": "code",
        "id": "z-37jMkROh8P",
        "outputId": "6bc99439-8209-4ccc-98fd-de528b80363a",
        "colab": {
          "base_uri": "https://localhost:8080/",
          "height": 150
        }
      },
      "source": [
        "print(\"Number of data points in train data\", project_data.shape)\n",
        "print('-'*50)\n",
        "print(\"The attributes of data :\", project_data.columns.values)"
      ],
      "execution_count": 79,
      "outputs": [
        {
          "output_type": "stream",
          "text": [
            "Number of data points in train data (109248, 17)\n",
            "--------------------------------------------------\n",
            "The attributes of data : ['Unnamed: 0' 'id' 'teacher_id' 'teacher_prefix' 'school_state'\n",
            " 'project_submitted_datetime' 'project_grade_category'\n",
            " 'project_subject_categories' 'project_subject_subcategories'\n",
            " 'project_title' 'project_essay_1' 'project_essay_2' 'project_essay_3'\n",
            " 'project_essay_4' 'project_resource_summary'\n",
            " 'teacher_number_of_previously_posted_projects' 'project_is_approved']\n"
          ],
          "name": "stdout"
        }
      ]
    },
    {
      "cell_type": "code",
      "metadata": {
        "colab_type": "code",
        "id": "JFvPg4TZOh8U",
        "outputId": "25b44fee-ff8f-4e98-ad60-823f58771deb",
        "colab": {
          "base_uri": "https://localhost:8080/",
          "height": 141
        }
      },
      "source": [
        "print(\"Number of data points in train data\", resource_data.shape)\n",
        "print(resource_data.columns.values)\n",
        "resource_data.head(2)"
      ],
      "execution_count": 80,
      "outputs": [
        {
          "output_type": "stream",
          "text": [
            "Number of data points in train data (1541272, 4)\n",
            "['id' 'description' 'quantity' 'price']\n"
          ],
          "name": "stdout"
        },
        {
          "output_type": "execute_result",
          "data": {
            "text/html": [
              "<div>\n",
              "<style scoped>\n",
              "    .dataframe tbody tr th:only-of-type {\n",
              "        vertical-align: middle;\n",
              "    }\n",
              "\n",
              "    .dataframe tbody tr th {\n",
              "        vertical-align: top;\n",
              "    }\n",
              "\n",
              "    .dataframe thead th {\n",
              "        text-align: right;\n",
              "    }\n",
              "</style>\n",
              "<table border=\"1\" class=\"dataframe\">\n",
              "  <thead>\n",
              "    <tr style=\"text-align: right;\">\n",
              "      <th></th>\n",
              "      <th>id</th>\n",
              "      <th>description</th>\n",
              "      <th>quantity</th>\n",
              "      <th>price</th>\n",
              "    </tr>\n",
              "  </thead>\n",
              "  <tbody>\n",
              "    <tr>\n",
              "      <th>0</th>\n",
              "      <td>p233245</td>\n",
              "      <td>LC652 - Lakeshore Double-Space Mobile Drying Rack</td>\n",
              "      <td>1</td>\n",
              "      <td>149.00</td>\n",
              "    </tr>\n",
              "    <tr>\n",
              "      <th>1</th>\n",
              "      <td>p069063</td>\n",
              "      <td>Bouncy Bands for Desks (Blue support pipes)</td>\n",
              "      <td>3</td>\n",
              "      <td>14.95</td>\n",
              "    </tr>\n",
              "  </tbody>\n",
              "</table>\n",
              "</div>"
            ],
            "text/plain": [
              "        id                                        description  quantity   price\n",
              "0  p233245  LC652 - Lakeshore Double-Space Mobile Drying Rack         1  149.00\n",
              "1  p069063        Bouncy Bands for Desks (Blue support pipes)         3   14.95"
            ]
          },
          "metadata": {
            "tags": []
          },
          "execution_count": 80
        }
      ]
    },
    {
      "cell_type": "markdown",
      "metadata": {
        "colab_type": "text",
        "id": "pTDWxnUOOh8Y"
      },
      "source": [
        "### 1.1 Checking for missing values"
      ]
    },
    {
      "cell_type": "code",
      "metadata": {
        "colab_type": "code",
        "id": "AAqCXs6IV8Av",
        "outputId": "9863723d-43c1-432e-9d9c-6918374bab1c",
        "colab": {
          "base_uri": "https://localhost:8080/",
          "height": 316
        }
      },
      "source": [
        "# check for missing values in python : https://towardsdatascience.com/data-cleaning-with-python-and-pandas-detecting-missing-values-3e9c6ebcf78b\n",
        "print (project_data.isnull().sum())"
      ],
      "execution_count": 81,
      "outputs": [
        {
          "output_type": "stream",
          "text": [
            "Unnamed: 0                                           0\n",
            "id                                                   0\n",
            "teacher_id                                           0\n",
            "teacher_prefix                                       3\n",
            "school_state                                         0\n",
            "project_submitted_datetime                           0\n",
            "project_grade_category                               0\n",
            "project_subject_categories                           0\n",
            "project_subject_subcategories                        0\n",
            "project_title                                        0\n",
            "project_essay_1                                      0\n",
            "project_essay_2                                      0\n",
            "project_essay_3                                 105490\n",
            "project_essay_4                                 105490\n",
            "project_resource_summary                             0\n",
            "teacher_number_of_previously_posted_projects         0\n",
            "project_is_approved                                  0\n",
            "dtype: int64\n"
          ],
          "name": "stdout"
        }
      ]
    },
    {
      "cell_type": "markdown",
      "metadata": {
        "colab_type": "text",
        "id": "uYTWK_ZYV8Aw"
      },
      "source": [
        "The above output shows that there are missing values in teacher prefix, project_essay_3 and project_essay_4. We can drop the 3 rows having missing teacher prefix. From the description of the project, we know that the numbers of essay submissions were reduced to 2 from 4. So the can ignore the rows having missing project_essay_3 and project_essay_4 as its expected.\n",
        "\n"
      ]
    },
    {
      "cell_type": "code",
      "metadata": {
        "colab_type": "code",
        "id": "sWfUbS-zV8Ay",
        "colab": {}
      },
      "source": [
        "# dropna column pandas :https://stackoverflow.com/a/23235618/8363466\n",
        "project_data = project_data[pd.notnull(project_data['teacher_prefix'])]"
      ],
      "execution_count": 0,
      "outputs": []
    },
    {
      "cell_type": "code",
      "metadata": {
        "colab_type": "code",
        "id": "LhSfsO_kV8Az",
        "outputId": "5856bdfe-f87e-4202-ae98-f24c27a55548",
        "colab": {
          "base_uri": "https://localhost:8080/",
          "height": 316
        }
      },
      "source": [
        "# check for missing values in python : https://towardsdatascience.com/data-cleaning-with-python-and-pandas-detecting-missing-values-3e9c6ebcf78b\n",
        "print (project_data.isnull().sum())"
      ],
      "execution_count": 83,
      "outputs": [
        {
          "output_type": "stream",
          "text": [
            "Unnamed: 0                                           0\n",
            "id                                                   0\n",
            "teacher_id                                           0\n",
            "teacher_prefix                                       0\n",
            "school_state                                         0\n",
            "project_submitted_datetime                           0\n",
            "project_grade_category                               0\n",
            "project_subject_categories                           0\n",
            "project_subject_subcategories                        0\n",
            "project_title                                        0\n",
            "project_essay_1                                      0\n",
            "project_essay_2                                      0\n",
            "project_essay_3                                 105488\n",
            "project_essay_4                                 105488\n",
            "project_resource_summary                             0\n",
            "teacher_number_of_previously_posted_projects         0\n",
            "project_is_approved                                  0\n",
            "dtype: int64\n"
          ],
          "name": "stdout"
        }
      ]
    },
    {
      "cell_type": "markdown",
      "metadata": {
        "colab_type": "text",
        "id": "3cXF4GDRV8A0"
      },
      "source": [
        "## 1.2 preprocessing of `project_subject_categories`"
      ]
    },
    {
      "cell_type": "code",
      "metadata": {
        "colab_type": "code",
        "id": "gw_I3RrXOh8Z",
        "colab": {}
      },
      "source": [
        "catogories = list(project_data['project_subject_categories'].values)\n",
        "# remove special characters from list of strings python: https://stackoverflow.com/a/47301924/4084039\n",
        "\n",
        "# https://www.geeksforgeeks.org/removing-stop-words-nltk-python/\n",
        "# https://stackoverflow.com/questions/23669024/how-to-strip-a-specific-word-from-a-string\n",
        "# https://stackoverflow.com/questions/8270092/remove-all-whitespace-in-a-string-in-python\n",
        "cat_list = []\n",
        "for i in catogories:\n",
        "    temp = \"\"\n",
        "    # consider we have text like this \"Math & Science, Warmth, Care & Hunger\"\n",
        "    for j in i.split(','): # it will split it in three parts [\"Math & Science\", \"Warmth\", \"Care & Hunger\"]\n",
        "        if 'The' in j.split(): # this will split each of the catogory based on space \"Math & Science\"=> \"Math\",\"&\", \"Science\"\n",
        "            j=j.replace('The','') # if we have the words \"The\" we are going to replace it with ''(i.e removing 'The')\n",
        "        j = j.replace(' ','') # we are placeing all the ' '(space) with ''(empty) ex:\"Math & Science\"=>\"Math&Science\"\n",
        "        temp+=j.strip()+\" \" #\" abc \".strip() will return \"abc\", remove the trailing spaces\n",
        "        temp = temp.replace('&','_') # we are replacing the & value into \n",
        "    cat_list.append(temp.strip())\n",
        "    \n",
        "project_data['clean_categories'] = cat_list\n",
        "project_data.drop(['project_subject_categories'], axis=1, inplace=True)\n",
        "\n",
        "my_counter = Counter()\n",
        "for word in project_data['clean_categories'].values:\n",
        "    my_counter.update(word.split())\n",
        "\n",
        "cat_dict = dict(my_counter)\n",
        "sorted_cat_dict = dict(sorted(cat_dict.items(), key=lambda kv: kv[1]))\n"
      ],
      "execution_count": 0,
      "outputs": []
    },
    {
      "cell_type": "markdown",
      "metadata": {
        "colab_type": "text",
        "id": "uPeyOZOvOh8d"
      },
      "source": [
        "## 1.3 preprocessing of `project_subject_subcategories`"
      ]
    },
    {
      "cell_type": "code",
      "metadata": {
        "colab_type": "code",
        "id": "uA4uC5YxOh8d",
        "colab": {}
      },
      "source": [
        "sub_catogories = list(project_data['project_subject_subcategories'].values)\n",
        "# remove special characters from list of strings python: https://stackoverflow.com/a/47301924/4084039\n",
        "\n",
        "# https://www.geeksforgeeks.org/removing-stop-words-nltk-python/\n",
        "# https://stackoverflow.com/questions/23669024/how-to-strip-a-specific-word-from-a-string\n",
        "# https://stackoverflow.com/questions/8270092/remove-all-whitespace-in-a-string-in-python\n",
        "\n",
        "sub_cat_list = []\n",
        "for i in sub_catogories:\n",
        "    temp = \"\"\n",
        "    # consider we have text like this \"Math & Science, Warmth, Care & Hunger\"\n",
        "    for j in i.split(','): # it will split it in three parts [\"Math & Science\", \"Warmth\", \"Care & Hunger\"]\n",
        "        if 'The' in j.split(): # this will split each of the catogory based on space \"Math & Science\"=> \"Math\",\"&\", \"Science\"\n",
        "            j=j.replace('The','') # if we have the words \"The\" we are going to replace it with ''(i.e removing 'The')\n",
        "        j = j.replace(' ','') # we are placeing all the ' '(space) with ''(empty) ex:\"Math & Science\"=>\"Math&Science\"\n",
        "        temp +=j.strip()+\" \"#\" abc \".strip() will return \"abc\", remove the trailing spaces\n",
        "        temp = temp.replace('&','_')\n",
        "    sub_cat_list.append(temp.strip())\n",
        "\n",
        "project_data['clean_subcategories'] = sub_cat_list\n",
        "project_data.drop(['project_subject_subcategories'], axis=1, inplace=True)\n",
        "\n",
        "# count of all the words in corpus python: https://stackoverflow.com/a/22898595/4084039\n",
        "my_counter = Counter()\n",
        "for word in project_data['clean_subcategories'].values:\n",
        "    my_counter.update(word.split())\n",
        "    \n",
        "sub_cat_dict = dict(my_counter)\n",
        "sorted_sub_cat_dict = dict(sorted(sub_cat_dict.items(), key=lambda kv: kv[1]))"
      ],
      "execution_count": 0,
      "outputs": []
    },
    {
      "cell_type": "markdown",
      "metadata": {
        "colab_type": "text",
        "id": "yWnCu3ufOh8h"
      },
      "source": [
        "## 1.4 Text preprocessing"
      ]
    },
    {
      "cell_type": "code",
      "metadata": {
        "colab_type": "code",
        "id": "U05smU87Oh8i",
        "colab": {}
      },
      "source": [
        "# merge two column text dataframe: \n",
        "project_data[\"essay\"] = project_data[\"project_essay_1\"].map(str) +\\\n",
        "                        project_data[\"project_essay_2\"].map(str) + \\\n",
        "                        project_data[\"project_essay_3\"].map(str) + \\\n",
        "                        project_data[\"project_essay_4\"].map(str)"
      ],
      "execution_count": 0,
      "outputs": []
    },
    {
      "cell_type": "code",
      "metadata": {
        "colab_type": "code",
        "id": "AuHJ0TPjOh8k",
        "outputId": "30de79af-0a5a-468e-e596-66ae6bed2a3f",
        "colab": {
          "base_uri": "https://localhost:8080/",
          "height": 344
        }
      },
      "source": [
        "project_data.head(2)"
      ],
      "execution_count": 87,
      "outputs": [
        {
          "output_type": "execute_result",
          "data": {
            "text/html": [
              "<div>\n",
              "<style scoped>\n",
              "    .dataframe tbody tr th:only-of-type {\n",
              "        vertical-align: middle;\n",
              "    }\n",
              "\n",
              "    .dataframe tbody tr th {\n",
              "        vertical-align: top;\n",
              "    }\n",
              "\n",
              "    .dataframe thead th {\n",
              "        text-align: right;\n",
              "    }\n",
              "</style>\n",
              "<table border=\"1\" class=\"dataframe\">\n",
              "  <thead>\n",
              "    <tr style=\"text-align: right;\">\n",
              "      <th></th>\n",
              "      <th>Unnamed: 0</th>\n",
              "      <th>id</th>\n",
              "      <th>teacher_id</th>\n",
              "      <th>teacher_prefix</th>\n",
              "      <th>school_state</th>\n",
              "      <th>project_submitted_datetime</th>\n",
              "      <th>project_grade_category</th>\n",
              "      <th>project_title</th>\n",
              "      <th>project_essay_1</th>\n",
              "      <th>project_essay_2</th>\n",
              "      <th>project_essay_3</th>\n",
              "      <th>project_essay_4</th>\n",
              "      <th>project_resource_summary</th>\n",
              "      <th>teacher_number_of_previously_posted_projects</th>\n",
              "      <th>project_is_approved</th>\n",
              "      <th>clean_categories</th>\n",
              "      <th>clean_subcategories</th>\n",
              "      <th>essay</th>\n",
              "    </tr>\n",
              "  </thead>\n",
              "  <tbody>\n",
              "    <tr>\n",
              "      <th>0</th>\n",
              "      <td>160221</td>\n",
              "      <td>p253737</td>\n",
              "      <td>c90749f5d961ff158d4b4d1e7dc665fc</td>\n",
              "      <td>Mrs.</td>\n",
              "      <td>IN</td>\n",
              "      <td>2016-12-05 13:43:57</td>\n",
              "      <td>Grades PreK-2</td>\n",
              "      <td>Educational Support for English Learners at Home</td>\n",
              "      <td>My students are English learners that are work...</td>\n",
              "      <td>\\\"The limits of your language are the limits o...</td>\n",
              "      <td>NaN</td>\n",
              "      <td>NaN</td>\n",
              "      <td>My students need opportunities to practice beg...</td>\n",
              "      <td>0</td>\n",
              "      <td>0</td>\n",
              "      <td>Literacy_Language</td>\n",
              "      <td>ESL Literacy</td>\n",
              "      <td>My students are English learners that are work...</td>\n",
              "    </tr>\n",
              "    <tr>\n",
              "      <th>1</th>\n",
              "      <td>140945</td>\n",
              "      <td>p258326</td>\n",
              "      <td>897464ce9ddc600bced1151f324dd63a</td>\n",
              "      <td>Mr.</td>\n",
              "      <td>FL</td>\n",
              "      <td>2016-10-25 09:22:10</td>\n",
              "      <td>Grades 6-8</td>\n",
              "      <td>Wanted: Projector for Hungry Learners</td>\n",
              "      <td>Our students arrive to our school eager to lea...</td>\n",
              "      <td>The projector we need for our school is very c...</td>\n",
              "      <td>NaN</td>\n",
              "      <td>NaN</td>\n",
              "      <td>My students need a projector to help with view...</td>\n",
              "      <td>7</td>\n",
              "      <td>1</td>\n",
              "      <td>History_Civics Health_Sports</td>\n",
              "      <td>Civics_Government TeamSports</td>\n",
              "      <td>Our students arrive to our school eager to lea...</td>\n",
              "    </tr>\n",
              "  </tbody>\n",
              "</table>\n",
              "</div>"
            ],
            "text/plain": [
              "   Unnamed: 0  ...                                              essay\n",
              "0      160221  ...  My students are English learners that are work...\n",
              "1      140945  ...  Our students arrive to our school eager to lea...\n",
              "\n",
              "[2 rows x 18 columns]"
            ]
          },
          "metadata": {
            "tags": []
          },
          "execution_count": 87
        }
      ]
    },
    {
      "cell_type": "code",
      "metadata": {
        "colab_type": "code",
        "id": "MGdcsQGDOh8v",
        "colab": {}
      },
      "source": [
        "# https://stackoverflow.com/a/47091490/4084039\n",
        "def decontracted(phrase):\n",
        "    # specific\n",
        "    phrase = re.sub(r\"won't\", \"will not\", phrase)\n",
        "    phrase = re.sub(r\"can\\'t\", \"can not\", phrase)\n",
        "\n",
        "    # general\n",
        "    phrase = re.sub(r\"n\\'t\", \" not\", phrase)\n",
        "    phrase = re.sub(r\"\\'re\", \" are\", phrase)\n",
        "    phrase = re.sub(r\"\\'s\", \" is\", phrase)\n",
        "    phrase = re.sub(r\"\\'d\", \" would\", phrase)\n",
        "    phrase = re.sub(r\"\\'ll\", \" will\", phrase)\n",
        "    phrase = re.sub(r\"\\'t\", \" not\", phrase)\n",
        "    phrase = re.sub(r\"\\'ve\", \" have\", phrase)\n",
        "    phrase = re.sub(r\"\\'m\", \" am\", phrase)\n",
        "    return phrase"
      ],
      "execution_count": 0,
      "outputs": []
    },
    {
      "cell_type": "code",
      "metadata": {
        "colab_type": "code",
        "id": "f9xBNXfxOh9F",
        "colab": {}
      },
      "source": [
        "# https://gist.github.com/sebleier/554280\n",
        "# we are removing the words from the stop words list: 'no', 'nor', 'not'\n",
        "stopwords= ['i', 'me', 'my', 'myself', 'we', 'our', 'ours', 'ourselves', 'you', \"you're\", \"you've\",\\\n",
        "            \"you'll\", \"you'd\", 'your', 'yours', 'yourself', 'yourselves', 'he', 'him', 'his', 'himself', \\\n",
        "            'she', \"she's\", 'her', 'hers', 'herself', 'it', \"it's\", 'its', 'itself', 'they', 'them', 'their',\\\n",
        "            'theirs', 'themselves', 'what', 'which', 'who', 'whom', 'this', 'that', \"that'll\", 'these', 'those', \\\n",
        "            'am', 'is', 'are', 'was', 'were', 'be', 'been', 'being', 'have', 'has', 'had', 'having', 'do', 'does', \\\n",
        "            'did', 'doing', 'a', 'an', 'the', 'and', 'but', 'if', 'or', 'because', 'as', 'until', 'while', 'of', \\\n",
        "            'at', 'by', 'for', 'with', 'about', 'against', 'between', 'into', 'through', 'during', 'before', 'after',\\\n",
        "            'above', 'below', 'to', 'from', 'up', 'down', 'in', 'out', 'on', 'off', 'over', 'under', 'again', 'further',\\\n",
        "            'then', 'once', 'here', 'there', 'when', 'where', 'why', 'how', 'all', 'any', 'both', 'each', 'few', 'more',\\\n",
        "            'most', 'other', 'some', 'such', 'only', 'own', 'same', 'so', 'than', 'too', 'very', \\\n",
        "            's', 't', 'can', 'will', 'just', 'don', \"don't\", 'should', \"should've\", 'now', 'd', 'll', 'm', 'o', 're', \\\n",
        "            've', 'y', 'ain', 'aren', \"aren't\", 'couldn', \"couldn't\", 'didn', \"didn't\", 'doesn', \"doesn't\", 'hadn',\\\n",
        "            \"hadn't\", 'hasn', \"hasn't\", 'haven', \"haven't\", 'isn', \"isn't\", 'ma', 'mightn', \"mightn't\", 'mustn',\\\n",
        "            \"mustn't\", 'needn', \"needn't\", 'shan', \"shan't\", 'shouldn', \"shouldn't\", 'wasn', \"wasn't\", 'weren', \"weren't\", \\\n",
        "            'won', \"won't\", 'wouldn', \"wouldn't\"]"
      ],
      "execution_count": 0,
      "outputs": []
    },
    {
      "cell_type": "code",
      "metadata": {
        "colab_type": "code",
        "id": "ykn0tBvpOh9M",
        "colab": {}
      },
      "source": [
        "# Combining all the above stundents \n",
        "def preprocessTextData(dataToProcess):\n",
        "    \"\"\"This function do the preprocessing of the column text data in essay and title\"\"\"\n",
        "    processedData = []\n",
        "    # tqdm is for printing the status bar\n",
        "    for sentance in tqdm(dataToProcess):\n",
        "        #convert the sentence to lower case before decontracting\n",
        "        lowersent = sentance.lower()\n",
        "        sent = decontracted(lowersent)\n",
        "        sent = sent.replace('\\\\r', ' ')\n",
        "        sent = sent.replace('\\\\\"', ' ')\n",
        "        sent = sent.replace('\\\\n', ' ')\n",
        "        sent = re.sub('[^A-Za-z0-9]+', ' ', sent)\n",
        "        # https://gist.github.com/sebleier/554280\n",
        "        sent = ' '.join(e for e in sent.split() if e not in stopwords)\n",
        "        processedData.append(sent.strip())\n",
        "    return processedData\n"
      ],
      "execution_count": 0,
      "outputs": []
    },
    {
      "cell_type": "code",
      "metadata": {
        "colab_type": "code",
        "id": "EpouIqDXePvj",
        "outputId": "61ebec02-1586-4345-fe81-ec9db006f7db",
        "colab": {
          "base_uri": "https://localhost:8080/",
          "height": 100
        }
      },
      "source": [
        "project_data['project_grade_category'] =  project_data['project_grade_category'].str.replace(\" \", \"_\")\n",
        "project_data['project_grade_category'] =  project_data['project_grade_category'].str.replace(\"-\", \"_\")\n",
        "project_data['project_grade_category'].value_counts()"
      ],
      "execution_count": 91,
      "outputs": [
        {
          "output_type": "execute_result",
          "data": {
            "text/plain": [
              "Grades_PreK_2    44225\n",
              "Grades_3_5       37135\n",
              "Grades_6_8       16923\n",
              "Grades_9_12      10962\n",
              "Name: project_grade_category, dtype: int64"
            ]
          },
          "metadata": {
            "tags": []
          },
          "execution_count": 91
        }
      ]
    },
    {
      "cell_type": "markdown",
      "metadata": {
        "colab_type": "text",
        "id": "q7zXfuktOh9W"
      },
      "source": [
        "## 1.5 Preparing data for models"
      ]
    },
    {
      "cell_type": "code",
      "metadata": {
        "colab_type": "code",
        "id": "GWx5ER5XOh9X",
        "outputId": "4c8f66fc-37c2-4d42-80e2-2ac05fa852c2",
        "colab": {
          "base_uri": "https://localhost:8080/",
          "height": 133
        }
      },
      "source": [
        "project_data.columns"
      ],
      "execution_count": 92,
      "outputs": [
        {
          "output_type": "execute_result",
          "data": {
            "text/plain": [
              "Index(['Unnamed: 0', 'id', 'teacher_id', 'teacher_prefix', 'school_state',\n",
              "       'project_submitted_datetime', 'project_grade_category', 'project_title',\n",
              "       'project_essay_1', 'project_essay_2', 'project_essay_3',\n",
              "       'project_essay_4', 'project_resource_summary',\n",
              "       'teacher_number_of_previously_posted_projects', 'project_is_approved',\n",
              "       'clean_categories', 'clean_subcategories', 'essay'],\n",
              "      dtype='object')"
            ]
          },
          "metadata": {
            "tags": []
          },
          "execution_count": 92
        }
      ]
    },
    {
      "cell_type": "markdown",
      "metadata": {
        "colab_type": "text",
        "id": "j2-sbIVbOh9a"
      },
      "source": [
        "we are going to consider\n",
        "\n",
        "       - school_state : categorical data\n",
        "       - clean_categories : categorical data\n",
        "       - clean_subcategories : categorical data\n",
        "       - project_grade_category : categorical data\n",
        "       - teacher_prefix : categorical data\n",
        "       \n",
        "       - project_title : text data\n",
        "       - text : text data\n",
        "       - project_resource_summary: text data (optinal)\n",
        "       \n",
        "       - quantity : numerical (optinal)\n",
        "       - teacher_number_of_previously_posted_projects : numerical\n",
        "       - price : numerical"
      ]
    },
    {
      "cell_type": "markdown",
      "metadata": {
        "colab_type": "text",
        "id": "OeLLx404Oh9c"
      },
      "source": [
        "### 1.5.1 Vectorizing Categorical data"
      ]
    },
    {
      "cell_type": "code",
      "metadata": {
        "colab_type": "code",
        "id": "K2pZQs6mOh9d",
        "colab": {}
      },
      "source": [
        "#fitting categorical data using label encoder\n",
        "def fitCatogarizedData(dataToProcess, vocab = None):\n",
        "    vectorizer = LabelEncoder()\n",
        "    vectorizer.fit(dataToProcess)\n",
        "    return vectorizer\n",
        "\n",
        "#transforming categorical data using label encoder\n",
        "def transformCatogarizedData(dataToProcess, vectorizer):\n",
        "    categories_label = vectorizer.fit_transform(dataToProcess.values.astype(str))\n",
        "    print(\"Shape of matrix after label encodig \",categories_label.shape)\n",
        "    return categories_label"
      ],
      "execution_count": 0,
      "outputs": []
    },
    {
      "cell_type": "markdown",
      "metadata": {
        "colab_type": "text",
        "id": "ACyCSq0LOh9o"
      },
      "source": [
        "### 1.5.2 Vectorizing Text data"
      ]
    },
    {
      "cell_type": "markdown",
      "metadata": {
        "colab_type": "text",
        "id": "NMbzzOsPOh9p"
      },
      "source": [
        "#### 1.5.2.1 Bag of words"
      ]
    },
    {
      "cell_type": "code",
      "metadata": {
        "colab_type": "code",
        "id": "7dfCHNPwOh9p",
        "colab": {}
      },
      "source": [
        "#fitting bag of words\n",
        "def fitBow(textToProcess):\n",
        "    # We are considering only the words which appeared in at least 10 documents(rows or projects).\n",
        "    vectorizer = CountVectorizer(min_df=10, ngram_range=(1, 2), max_features=5000)\n",
        "    vectorizer.fit(textToProcess)\n",
        "    return vectorizer\n",
        "#transforming bag of words\n",
        "def transformBow(textToProcess, vectorizer):\n",
        "    processedText = vectorizer.transform(textToProcess)\n",
        "    print(\"Shape of matrix after one hot encodig \",processedText.shape)\n",
        "    return processedText"
      ],
      "execution_count": 0,
      "outputs": []
    },
    {
      "cell_type": "markdown",
      "metadata": {
        "colab_type": "text",
        "id": "z2gxZ2ogOh9w"
      },
      "source": [
        "#### 1.5.2.2 TFIDF vectorizer"
      ]
    },
    {
      "cell_type": "code",
      "metadata": {
        "colab_type": "code",
        "id": "T8uozAbyOh9x",
        "colab": {}
      },
      "source": [
        "#fitting tfidf \n",
        "def fitTfidf(textToProcess):\n",
        "    # We are considering only the words which appeared in at least 10 documents(rows or projects).\n",
        "    vectorizer = TfidfVectorizer(min_df=10, ngram_range=(1, 2), max_features=5000)\n",
        "    processedText = vectorizer.fit(textToProcess)\n",
        "    return vectorizer\n",
        "#transforming tfidf\n",
        "def transformTfidf(textToProcess, vectorizer):\n",
        "    processedText = vectorizer.transform(textToProcess)\n",
        "    print(\"Shape of matrix after one hot encodig \",processedText.shape)\n",
        "    return processedText"
      ],
      "execution_count": 0,
      "outputs": []
    },
    {
      "cell_type": "markdown",
      "metadata": {
        "colab_type": "text",
        "id": "73m5MNjoOh90"
      },
      "source": [
        "#### 1.5.2.3 Using Pretrained Models: Avg W2V"
      ]
    },
    {
      "cell_type": "code",
      "metadata": {
        "colab_type": "code",
        "id": "J4sL80mSOh93",
        "colab": {}
      },
      "source": [
        "# stronging variables into pickle files python: http://www.jessicayung.com/how-to-use-pickle-to-save-and-load-variables-in-python/\n",
        "# make sure you have the glove_vectors file\n",
        "with open(glove_vectors, 'rb') as f:\n",
        "    model = pickle.load(f)\n",
        "    glove_words =  set(model.keys())"
      ],
      "execution_count": 0,
      "outputs": []
    },
    {
      "cell_type": "code",
      "metadata": {
        "colab_type": "code",
        "id": "HXVbeaR6Oh96",
        "scrolled": true,
        "colab": {}
      },
      "source": [
        "# average Word2Vec\n",
        "# compute average word2vec for each review.\n",
        "def fitAvgW2V(dataToProcess):\n",
        "    avg_w2v_vectors = []; # the avg-w2v for each sentence/review is stored in this list\n",
        "    for sentence in tqdm(dataToProcess): # for each review/sentence\n",
        "        vector = np.zeros(300) # as word vectors are of zero length\n",
        "        cnt_words =0; # num of words with a valid vector in the sentence/review\n",
        "        for word in sentence.split(): # for each word in a review/sentence\n",
        "            if word in glove_words:\n",
        "                vector += model[word]\n",
        "                cnt_words += 1\n",
        "        if cnt_words != 0:\n",
        "            vector /= cnt_words\n",
        "        avg_w2v_vectors.append(vector)\n",
        "\n",
        "    print(len(avg_w2v_vectors))\n",
        "    print(len(avg_w2v_vectors[0]))\n",
        "    return avg_w2v_vectors"
      ],
      "execution_count": 0,
      "outputs": []
    },
    {
      "cell_type": "markdown",
      "metadata": {
        "colab_type": "text",
        "id": "pAcQahGBOh99"
      },
      "source": [
        "#### 1.5.2.3 Using Pretrained Models: TFIDF weighted W2V"
      ]
    },
    {
      "cell_type": "code",
      "metadata": {
        "colab_type": "code",
        "id": "PhfDIGZzOh9-",
        "colab": {}
      },
      "source": [
        "# S = [\"abc def pqr\", \"def def def abc\", \"pqr pqr def\"]\n",
        "def fitTfidfw2v(textToProcess):\n",
        "    tfidf_model = TfidfVectorizer()\n",
        "    tfidf_model.fit(textToProcess)\n",
        "    return tfidf_model"
      ],
      "execution_count": 0,
      "outputs": []
    },
    {
      "cell_type": "code",
      "metadata": {
        "colab_type": "code",
        "id": "SVuQKgh1Oh-A",
        "scrolled": true,
        "colab": {}
      },
      "source": [
        "# tfidf Word2Vec\n",
        "# compute tfidf word2vec for each review.\n",
        "def transformTfidfw2v(textToProcess, vectorizer):\n",
        "    # we are converting a dictionary with word as a key, and the idf as a value\n",
        "    dictionary = dict(zip(vectorizer.get_feature_names(), list(vectorizer.idf_)))\n",
        "    tfidf_words = set(vectorizer.get_feature_names())\n",
        "    tfidf_w2v_vectors = []; # the avg-w2v for each sentence/review is stored in this list\n",
        "    for sentence in tqdm(textToProcess): # for each review/sentence\n",
        "        vector = np.zeros(300) # as word vectors are of zero length\n",
        "        tf_idf_weight =0; # num of words with a valid vector in the sentence/review\n",
        "        for word in sentence.split(): # for each word in a review/sentence\n",
        "            if (word in glove_words) and (word in tfidf_words):\n",
        "                vec = model[word] # getting the vector for each word\n",
        "                # here we are multiplying idf value(dictionary[word]) and the tf value((sentence.count(word)/len(sentence.split())))\n",
        "                tf_idf = dictionary[word]*(sentence.count(word)/len(sentence.split())) # getting the tfidf value for each word\n",
        "                vector += (vec * tf_idf) # calculating tfidf weighted w2v\n",
        "                tf_idf_weight += tf_idf\n",
        "        if tf_idf_weight != 0:\n",
        "            vector /= tf_idf_weight\n",
        "        tfidf_w2v_vectors.append(vector)\n",
        "\n",
        "    print(len(tfidf_w2v_vectors))\n",
        "    print(len(tfidf_w2v_vectors[0]))\n",
        "    return tfidf_w2v_vectors"
      ],
      "execution_count": 0,
      "outputs": []
    },
    {
      "cell_type": "markdown",
      "metadata": {
        "colab_type": "text",
        "id": "nrHWjPsrOh-I"
      },
      "source": [
        "### 1.5.3 Vectorizing Numerical features"
      ]
    },
    {
      "cell_type": "code",
      "metadata": {
        "colab_type": "code",
        "id": "3v7igAHLOh-J",
        "colab": {}
      },
      "source": [
        "price_data = resource_data.groupby('id').agg({'price':'sum', 'quantity':'sum'}).reset_index()\n",
        "project_data = pd.merge(project_data, price_data, on='id', how='left')"
      ],
      "execution_count": 0,
      "outputs": []
    },
    {
      "cell_type": "code",
      "metadata": {
        "colab_type": "code",
        "id": "81MCqG8wOh-M",
        "colab": {}
      },
      "source": [
        "#Minmax Scalar sklearn : https://scikit-learn.org/stable/modules/generated/sklearn.preprocessing.MinMaxScaler.html\n",
        "#Minmax scalar is used as we need the scaled values to be positive for selectKbest to use chi2\n",
        "#fitting numerical data\n",
        "def fitNumerical(dataToProcess):\n",
        "    numerical_scalar = MinMaxScaler()\n",
        "    numerical_scalar.fit(dataToProcess)\n",
        "    return numerical_scalar\n",
        "#transforming numerical data\n",
        "def transformNumerical(DataToprocess, scalar):\n",
        "    return scalar.transform(DataToprocess)"
      ],
      "execution_count": 0,
      "outputs": []
    },
    {
      "cell_type": "markdown",
      "metadata": {
        "id": "Z6BvNWyCD6Ll",
        "colab_type": "text"
      },
      "source": [
        "### 1.5.4 Response encoding of catagorical values"
      ]
    },
    {
      "cell_type": "code",
      "metadata": {
        "id": "C2WKBYHTD6Lm",
        "colab_type": "code",
        "colab": {}
      },
      "source": [
        "#total count\n",
        "def get_cat_counts(data, label):\n",
        "    total_cats = np.unique(data[label])\n",
        "    #print(total_cats)\n",
        "    total_cats_dict = {}\n",
        "    for element in total_cats:\n",
        "        total_cats_dict[element] = (data[label] == element).sum()\n",
        "        #print(total_cats_dict)\n",
        "    return total_cats_dict\n",
        "\n",
        "#print(get_cat_counts(project_data['clean_categories'], 'clean_categories'))\n",
        "\n",
        "def fit_response(input_data, output, label):\n",
        "    data = input_data.to_frame()\n",
        "    data['output'] = output\n",
        "    response_data = []\n",
        "    response_data.append(get_cat_counts(data, label))\n",
        "    response_data.append(get_cat_counts(data[data['output'] == 0], label))\n",
        "    response_data.append(get_cat_counts(data[data['output'] == 1], label))\n",
        "    return response_data\n",
        "# https://www.geeksforgeeks.org/python-check-whether-given-key-already-exists-in-a-dictionary/\n",
        "# https://www.geeksforgeeks.org/different-ways-to-iterate-over-rows-in-pandas-dataframe/\n",
        "def transform_response(input_data, output, label, response_list):\n",
        "    data = input_data.to_frame()\n",
        "    data['output'] = output\n",
        "    total_dict = response_list[0]\n",
        "    pos_dict = response_list[1]\n",
        "    neg_dict = response_list[2]\n",
        "    pos_prob = []\n",
        "    neg_prob = []\n",
        "    #iterte row wise in dataframe\n",
        "    for index, row in data.iterrows():\n",
        "        #check if row is present in input dataframe\n",
        "        if row[label] in total_dict:\n",
        "            #find probablity of positive and 1 - postitive probablity as negative\n",
        "            if row[label] in pos_dict:\n",
        "                pos_prob.append(pos_dict[row[label]]/total_dict[row[label]])\n",
        "                neg_prob.append(1-(pos_dict[row[label]]/total_dict[row[label]]))\n",
        "            #add 0 to positive probablity if item is not present. And 1 to negative\n",
        "            else:\n",
        "                pos_prob.append(0)\n",
        "                neg_prob.append(1)\n",
        "        #if item is not present in the row add equal probablity    \n",
        "        else :\n",
        "            pos_prob.append(0.5)\n",
        "            neg_prob.append(0.5)\n",
        "        pos_prob_col = np.asarray(pos_prob).reshape(-1,1)\n",
        "        neg_prob_col = np.asarray(neg_prob).reshape(-1,1)\n",
        "    return (pos_prob_col, neg_prob_col)"
      ],
      "execution_count": 0,
      "outputs": []
    },
    {
      "cell_type": "markdown",
      "metadata": {
        "id": "e0bQ1ng2H_NI",
        "colab_type": "text"
      },
      "source": [
        "### 1.5.5 Extract number from summary"
      ]
    },
    {
      "cell_type": "code",
      "metadata": {
        "id": "ZzjSzVKLH1pf",
        "colab_type": "code",
        "colab": {}
      },
      "source": [
        "#check for text in string python : https://stackoverflow.com/a/19859308\n",
        "def hasNumbers(inputString):\n",
        "    return any(i.isdigit() for i in inputString)\n",
        "    "
      ],
      "execution_count": 0,
      "outputs": []
    },
    {
      "cell_type": "markdown",
      "metadata": {
        "colab_type": "text",
        "id": "paRNuUWJpdUx"
      },
      "source": [
        "# Assignment 9: RF and GBDT"
      ]
    },
    {
      "cell_type": "markdown",
      "metadata": {
        "colab_type": "text",
        "id": "ilMDKELQpdUy"
      },
      "source": [
        "#### Response Coding: Example"
      ]
    },
    {
      "cell_type": "markdown",
      "metadata": {
        "colab_type": "text",
        "id": "DM6wDoX_pdUy"
      },
      "source": [
        "<img src='response.JPG' width=700px>\n",
        "\n",
        "> The response tabel is built only on train dataset.\n",
        "> For a category which is not there in train data and present in test data, we will encode them with default values\n",
        "Ex: in our test data if have State: D then we encode it as [0.5, 0.05]"
      ]
    },
    {
      "cell_type": "markdown",
      "metadata": {
        "colab_type": "text",
        "id": "YFxlMjpMpdUy"
      },
      "source": [
        "<ol>\n",
        "    <li><strong>Apply both Random Forrest and GBDT on these feature sets</strong>\n",
        "        <ul>\n",
        "            <li><font color='red'>Set 1</font>: categorical(instead of one hot encoding, try <a href='https://www.appliedaicourse.com/course/applied-ai-course-online/lessons/handling-categorical-and-numerical-features/'>response coding</a>: use probability values), numerical features + project_title(BOW) + preprocessed_eassay (BOW)</li>\n",
        "            <li><font color='red'>Set 2</font>: categorical(instead of one hot encoding, try <a href='https://www.appliedaicourse.com/course/applied-ai-course-online/lessons/handling-categorical-and-numerical-features/'>response coding</a>: use probability values), numerical features + project_title(TFIDF)+  preprocessed_eassay (TFIDF)</li>\n",
        "            <li><font color='red'>Set 3</font>: categorical(instead of one hot encoding, try <a href='https://www.appliedaicourse.com/course/applied-ai-course-online/lessons/handling-categorical-and-numerical-features/'>response coding</a>: use probability values), numerical features + project_title(AVG W2V)+  preprocessed_eassay (AVG W2V). Here for this set take <b>30K</b> datapoints only. </li>\n",
        "            <li><font color='red'>Set 4</font>: categorical(instead of one hot encoding, try <a href='https://www.appliedaicourse.com/course/applied-ai-course-online/lessons/handling-categorical-and-numerical-features/'>response coding</a>: use probability values), numerical features + project_title(TFIDF W2V)+  preprocessed_eassay (TFIDF W2V). Here for this set take <b>30K</b> datapoints only. </li>        </ul>\n",
        "    </li>\n",
        "    <br>\n",
        "    <li><strong>The hyper paramter tuning (Consider any two hyper parameters preferably n_estimators, max_depth)</strong>\n",
        "        <ul>\n",
        "          <li> Consider the following range for hyperparameters <b>n_estimators</b> = [10, 50, 100, 150, 200, 300, 500, 1000], \n",
        "            <b>max_depth</b> = [2, 3, 4, 5, 6, 7, 8, 9, 10] </li>\n",
        "    <li>Find the best hyper parameter which will give the maximum <a href='https://www.appliedaicourse.com/course/applied-ai-course-online/lessons/receiver-operating-characteristic-curve-roc-curve-and-auc-1/'>AUC</a> value</li>\n",
        "    <li>Find the best hyper paramter using simple cross validation data</li>\n",
        "    <li>You can write your own for loops to do this task</li>\n",
        "        </ul>\n",
        "    </li>\n",
        "    <br>\n",
        "    <li>\n",
        "    <strong>Representation of results</strong>\n",
        "        <ul>\n",
        "    <li>You need to plot the performance of model both on train data and cross validation data for each hyper parameter, like shown in the figure\n",
        "    <img src='3d_plot.JPG' width=500px> with X-axis as <strong>n_estimators</strong>, Y-axis as <strong>max_depth</strong>, and Z-axis as <strong>AUC Score</strong> , we have given the notebook which explains how to plot this 3d plot, you can find it in the same drive <i>3d_scatter_plot.ipynb</i></li>\n",
        "            <p style=\"text-align:center;font-size:30px;color:red;\"><strong>or</strong></p> <br>\n",
        "    <li>You need to plot the performance of model both on train data and cross validation data for each hyper parameter, like shown in the figure\n",
        "    <img src='heat_map.JPG' width=300px> <a href='https://seaborn.pydata.org/generated/seaborn.heatmap.html'>seaborn heat maps</a> with rows as <strong>n_estimators</strong>, columns as <strong>max_depth</strong>, and values inside the cell representing <strong>AUC Score</strong> </li>\n",
        "    <li>You can choose either of the plotting techniques: 3d plot or heat map</li>\n",
        "    <li>Once after you found the best hyper parameter, you need to train your model with it, and find the AUC on test data and plot the ROC curve on both train and test.\n",
        "    <img src='train_test_auc.JPG' width=300px></li>\n",
        "    <li>Along with plotting ROC curve, you need to print the <a href='https://www.appliedaicourse.com/course/applied-ai-course-online/lessons/confusion-matrix-tpr-fpr-fnr-tnr-1/'>confusion matrix</a> with predicted and original labels of test data points\n",
        "    <img src='confusion_matrix.png' width=300px></li>\n",
        "            </ul>\n",
        "    <br>\n",
        "    <li><strong>Conclusion</strong>\n",
        "        <ul>\n",
        "    <li>You need to summarize the results at the end of the notebook, summarize it in the table format. To print out a table please refer to this prettytable library<a href='http://zetcode.com/python/prettytable/'>  link</a> \n",
        "        <img src='summary.JPG' width=400px>\n",
        "    </li>\n",
        "        </ul>\n",
        "</ol>"
      ]
    },
    {
      "cell_type": "markdown",
      "metadata": {
        "colab_type": "text",
        "id": "Ufe50MBppdUz"
      },
      "source": [
        "<h4><font color='red'>Note: Data Leakage</font></h4>\n",
        "\n",
        "1. There will be an issue of data-leakage if you vectorize the entire data and then split it into train/cv/test.\n",
        "2. To avoid the issue of data-leakag, make sure to split your data first and then vectorize it. \n",
        "3. While vectorizing your data, apply the method fit_transform() on you train data, and apply the method transform() on cv/test data.\n",
        "4. For more details please go through this <a href='https://soundcloud.com/applied-ai-course/leakage-bow-and-tfidf'>link.</a>"
      ]
    },
    {
      "cell_type": "markdown",
      "metadata": {
        "colab_type": "text",
        "id": "h9vP1ObDpdUz"
      },
      "source": [
        "<h1>2. Random Forest and GBDT </h1>"
      ]
    },
    {
      "cell_type": "markdown",
      "metadata": {
        "colab_type": "text",
        "id": "oJIsZrjrOh-o"
      },
      "source": [
        "<h2>2.1 Splitting data into Train and cross validation(or test): Stratified Sampling</h2>"
      ]
    },
    {
      "cell_type": "code",
      "metadata": {
        "colab_type": "code",
        "id": "Uadl5GfvOh-o",
        "outputId": "44736734-878c-47a6-eeec-1ab9486673be",
        "colab": {
          "base_uri": "https://localhost:8080/",
          "height": 83
        }
      },
      "source": [
        "y = project_data['project_is_approved'].values\n",
        "X = project_data.drop(['project_is_approved'], axis=1)\n",
        "X.head(1)\n",
        "\n",
        "X_train, X_test, y_train, y_test = train_test_split(X, y, test_size=0.33, stratify=y)\n",
        "print(\"Size of X_train \", X_train.shape)\n",
        "print(\"Size of X_train \", X_test.shape)\n",
        "print(\"Size of X_train \", y_train.shape)\n",
        "print(\"Size of X_train \", y_test.shape)"
      ],
      "execution_count": 104,
      "outputs": [
        {
          "output_type": "stream",
          "text": [
            "Size of X_train  (73194, 19)\n",
            "Size of X_train  (36051, 19)\n",
            "Size of X_train  (73194,)\n",
            "Size of X_train  (36051,)\n"
          ],
          "name": "stdout"
        }
      ]
    },
    {
      "cell_type": "code",
      "metadata": {
        "id": "lcnn06ezHSBI",
        "colab_type": "code",
        "colab": {}
      },
      "source": [
        "# type(X_train['project_resource_summary'][10])"
      ],
      "execution_count": 0,
      "outputs": []
    },
    {
      "cell_type": "code",
      "metadata": {
        "id": "24u4M5J9HR6q",
        "colab_type": "code",
        "outputId": "43769c58-a426-4a85-8cfd-e91cc5273e81",
        "colab": {
          "base_uri": "https://localhost:8080/",
          "height": 501
        }
      },
      "source": [
        "X_train.head()"
      ],
      "execution_count": 106,
      "outputs": [
        {
          "output_type": "execute_result",
          "data": {
            "text/html": [
              "<div>\n",
              "<style scoped>\n",
              "    .dataframe tbody tr th:only-of-type {\n",
              "        vertical-align: middle;\n",
              "    }\n",
              "\n",
              "    .dataframe tbody tr th {\n",
              "        vertical-align: top;\n",
              "    }\n",
              "\n",
              "    .dataframe thead th {\n",
              "        text-align: right;\n",
              "    }\n",
              "</style>\n",
              "<table border=\"1\" class=\"dataframe\">\n",
              "  <thead>\n",
              "    <tr style=\"text-align: right;\">\n",
              "      <th></th>\n",
              "      <th>Unnamed: 0</th>\n",
              "      <th>id</th>\n",
              "      <th>teacher_id</th>\n",
              "      <th>teacher_prefix</th>\n",
              "      <th>school_state</th>\n",
              "      <th>project_submitted_datetime</th>\n",
              "      <th>project_grade_category</th>\n",
              "      <th>project_title</th>\n",
              "      <th>project_essay_1</th>\n",
              "      <th>project_essay_2</th>\n",
              "      <th>project_essay_3</th>\n",
              "      <th>project_essay_4</th>\n",
              "      <th>project_resource_summary</th>\n",
              "      <th>teacher_number_of_previously_posted_projects</th>\n",
              "      <th>clean_categories</th>\n",
              "      <th>clean_subcategories</th>\n",
              "      <th>essay</th>\n",
              "      <th>price</th>\n",
              "      <th>quantity</th>\n",
              "    </tr>\n",
              "  </thead>\n",
              "  <tbody>\n",
              "    <tr>\n",
              "      <th>67032</th>\n",
              "      <td>166439</td>\n",
              "      <td>p142905</td>\n",
              "      <td>4123c4ddbcd6e77f580974c661461c7c</td>\n",
              "      <td>Ms.</td>\n",
              "      <td>NY</td>\n",
              "      <td>2017-03-28 18:42:38</td>\n",
              "      <td>Grades_6_8</td>\n",
              "      <td>Support our STEM Exploration Lunch Club!</td>\n",
              "      <td>Working in the poorest congressional district ...</td>\n",
              "      <td>Last week, my students discovered that the 3D ...</td>\n",
              "      <td>NaN</td>\n",
              "      <td>NaN</td>\n",
              "      <td>My students need ZomeTools, a bubble kit, and ...</td>\n",
              "      <td>71</td>\n",
              "      <td>Math_Science</td>\n",
              "      <td>AppliedSciences Mathematics</td>\n",
              "      <td>Working in the poorest congressional district ...</td>\n",
              "      <td>363.68</td>\n",
              "      <td>8</td>\n",
              "    </tr>\n",
              "    <tr>\n",
              "      <th>96807</th>\n",
              "      <td>171390</td>\n",
              "      <td>p008496</td>\n",
              "      <td>46a929abfe6709a50fc781005c87d183</td>\n",
              "      <td>Mrs.</td>\n",
              "      <td>TX</td>\n",
              "      <td>2016-08-30 19:04:49</td>\n",
              "      <td>Grades_PreK_2</td>\n",
              "      <td>Hands On Learning Is The Way to Go!!</td>\n",
              "      <td>As a teacher and a member of ATPE in a low inc...</td>\n",
              "      <td>My students will be using the magnetic letters...</td>\n",
              "      <td>NaN</td>\n",
              "      <td>NaN</td>\n",
              "      <td>My students need and will become engaged when ...</td>\n",
              "      <td>4</td>\n",
              "      <td>Literacy_Language Math_Science</td>\n",
              "      <td>Literature_Writing Mathematics</td>\n",
              "      <td>As a teacher and a member of ATPE in a low inc...</td>\n",
              "      <td>172.96</td>\n",
              "      <td>5</td>\n",
              "    </tr>\n",
              "    <tr>\n",
              "      <th>63213</th>\n",
              "      <td>101787</td>\n",
              "      <td>p138780</td>\n",
              "      <td>84a1ff402e62e8d935789c9de2f5836e</td>\n",
              "      <td>Mrs.</td>\n",
              "      <td>NY</td>\n",
              "      <td>2017-03-28 18:47:51</td>\n",
              "      <td>Grades_3_5</td>\n",
              "      <td>Learning Should Be \\\"COOL!\\\"</td>\n",
              "      <td>I work with students in New York City in a nei...</td>\n",
              "      <td>No one likes to do anything when they are hot,...</td>\n",
              "      <td>NaN</td>\n",
              "      <td>NaN</td>\n",
              "      <td>My students need an air conditioner for their ...</td>\n",
              "      <td>4</td>\n",
              "      <td>Literacy_Language</td>\n",
              "      <td>Literacy Literature_Writing</td>\n",
              "      <td>I work with students in New York City in a nei...</td>\n",
              "      <td>529.46</td>\n",
              "      <td>1</td>\n",
              "    </tr>\n",
              "    <tr>\n",
              "      <th>87964</th>\n",
              "      <td>37365</td>\n",
              "      <td>p241129</td>\n",
              "      <td>85bee7627b940225dc3ddb58e17750f0</td>\n",
              "      <td>Mr.</td>\n",
              "      <td>WA</td>\n",
              "      <td>2016-09-08 18:38:08</td>\n",
              "      <td>Grades_PreK_2</td>\n",
              "      <td>Engaging Books for Young Students</td>\n",
              "      <td>Our school is highly diverse, with a free and ...</td>\n",
              "      <td>Currently our Kindergartners are able to check...</td>\n",
              "      <td>NaN</td>\n",
              "      <td>NaN</td>\n",
              "      <td>My students need A variety of engaging books f...</td>\n",
              "      <td>64</td>\n",
              "      <td>Literacy_Language</td>\n",
              "      <td>Literacy</td>\n",
              "      <td>Our school is highly diverse, with a free and ...</td>\n",
              "      <td>397.51</td>\n",
              "      <td>21</td>\n",
              "    </tr>\n",
              "    <tr>\n",
              "      <th>10846</th>\n",
              "      <td>178203</td>\n",
              "      <td>p124349</td>\n",
              "      <td>7029347ad328baad6e0d8434f11cc354</td>\n",
              "      <td>Mrs.</td>\n",
              "      <td>MS</td>\n",
              "      <td>2016-10-15 19:28:09</td>\n",
              "      <td>Grades_3_5</td>\n",
              "      <td>Technical Support Please...</td>\n",
              "      <td>My two fifth-grade classes are filled with som...</td>\n",
              "      <td>Chromebooks are very useful in the classroom. ...</td>\n",
              "      <td>NaN</td>\n",
              "      <td>NaN</td>\n",
              "      <td>My students need 4 Chromebooks with headphones...</td>\n",
              "      <td>0</td>\n",
              "      <td>Math_Science</td>\n",
              "      <td>Health_LifeScience Mathematics</td>\n",
              "      <td>My two fifth-grade classes are filled with som...</td>\n",
              "      <td>165.84</td>\n",
              "      <td>5</td>\n",
              "    </tr>\n",
              "  </tbody>\n",
              "</table>\n",
              "</div>"
            ],
            "text/plain": [
              "       Unnamed: 0       id  ...   price quantity\n",
              "67032      166439  p142905  ...  363.68        8\n",
              "96807      171390  p008496  ...  172.96        5\n",
              "63213      101787  p138780  ...  529.46        1\n",
              "87964       37365  p241129  ...  397.51       21\n",
              "10846      178203  p124349  ...  165.84        5\n",
              "\n",
              "[5 rows x 19 columns]"
            ]
          },
          "metadata": {
            "tags": []
          },
          "execution_count": 106
        }
      ]
    },
    {
      "cell_type": "markdown",
      "metadata": {
        "colab_type": "text",
        "id": "PDLSDy4bOh-s"
      },
      "source": [
        "<h2>2.2 Make Data Model Ready: encoding numerical, categorical features</h2>"
      ]
    },
    {
      "cell_type": "code",
      "metadata": {
        "colab_type": "code",
        "id": "CHCHH_ZyOh-t",
        "colab": {}
      },
      "source": [
        "#Encoding price data    \n",
        "price_vector = fitNumerical(X_train['price'].values.reshape(-1,1))\n",
        "price_train = transformNumerical(X_train['price'].values.reshape(-1,1), price_vector).reshape(-1,1)\n",
        "price_test = transformNumerical(X_test['price'].values.reshape(-1,1), price_vector).reshape(-1,1)\n",
        "\n",
        "#Encoding quantity data\n",
        "quantity_vector = fitNumerical(X_train['price'].values.reshape(-1,1))\n",
        "quantity_train = transformNumerical(X_train['price'].values.reshape(-1,1), quantity_vector).reshape(-1,1)\n",
        "quantity_test = transformNumerical(X_test['price'].values.reshape(-1,1), quantity_vector).reshape(-1,1)\n",
        "\n",
        "#Encoding teacher_previously_posted_projects data\n",
        "previous_projects_vector = fitNumerical(X_train['price'].values.reshape(-1,1))\n",
        "previous_projects_train = transformNumerical(X_train['price'].values.reshape(-1,1), previous_projects_vector).reshape(-1,1)\n",
        "previous_projects_test = transformNumerical(X_test['price'].values.reshape(-1,1), previous_projects_vector).reshape(-1,1)"
      ],
      "execution_count": 0,
      "outputs": []
    },
    {
      "cell_type": "code",
      "metadata": {
        "colab_type": "code",
        "id": "uDGAP8kVD6MC",
        "colab": {}
      },
      "source": [
        "### Encoding of catagorical values"
      ],
      "execution_count": 0,
      "outputs": []
    },
    {
      "cell_type": "code",
      "metadata": {
        "id": "zuRi5xMkD6ML",
        "colab_type": "code",
        "outputId": "bf1fd101-9e4c-4ea6-d0da-00ad27b5c856",
        "colab": {
          "base_uri": "https://localhost:8080/",
          "height": 183
        }
      },
      "source": [
        "#one hot encoding of clean categories\n",
        "catagories_vector = fitCatogarizedData(X_train['clean_categories'])\n",
        "catagories_train = transformCatogarizedData(X_train['clean_categories'], catagories_vector).reshape(-1,1)\n",
        "catagories_test = transformCatogarizedData(X_test['clean_categories'], catagories_vector).reshape(-1,1)\n",
        "\n",
        "#one hot encoding of clean sub categories\n",
        "sub_catagories_vector = fitCatogarizedData(X_train['clean_subcategories'])\n",
        "sub_catagories_train = transformCatogarizedData(X_train['clean_subcategories'], sub_catagories_vector).reshape(-1,1)\n",
        "sub_catagories_test = transformCatogarizedData(X_test['clean_subcategories'], sub_catagories_vector).reshape(-1,1)\n",
        "\n",
        "#one hot encoding of project grade categories\n",
        "project_grade_vector = fitCatogarizedData(X_train[\"project_grade_category\"])\n",
        "project_grade_train = transformCatogarizedData(X_train['project_grade_category'], project_grade_vector).reshape(-1,1)\n",
        "project_grade_test = transformCatogarizedData(X_test['project_grade_category'], project_grade_vector).reshape(-1,1)\n",
        "\n",
        "#one hot encoding of states\n",
        "state_vector = fitCatogarizedData(X_train['school_state'])\n",
        "state_train = transformCatogarizedData(X_train['school_state'], state_vector).reshape(-1,1)\n",
        "state_test = transformCatogarizedData(X_test['school_state'], state_vector).reshape(-1,1)\n",
        "\n",
        "#one hot encoding of teacher prefix\n",
        "teacher_prefix_vector = fitCatogarizedData(X_train['teacher_prefix'])\n",
        "teacher_prefix_train = transformCatogarizedData(X_train['teacher_prefix'], teacher_prefix_vector).reshape(-1,1)\n",
        "teacher_prefix_test = transformCatogarizedData(X_test['teacher_prefix'], teacher_prefix_vector).reshape(-1,1)"
      ],
      "execution_count": 109,
      "outputs": [
        {
          "output_type": "stream",
          "text": [
            "Shape of matrix after label encodig  (73194,)\n",
            "Shape of matrix after label encodig  (36051,)\n",
            "Shape of matrix after label encodig  (73194,)\n",
            "Shape of matrix after label encodig  (36051,)\n",
            "Shape of matrix after label encodig  (73194,)\n",
            "Shape of matrix after label encodig  (36051,)\n",
            "Shape of matrix after label encodig  (73194,)\n",
            "Shape of matrix after label encodig  (36051,)\n",
            "Shape of matrix after label encodig  (73194,)\n",
            "Shape of matrix after label encodig  (36051,)\n"
          ],
          "name": "stdout"
        }
      ]
    },
    {
      "cell_type": "code",
      "metadata": {
        "id": "aYjUglzSgu-5",
        "colab_type": "code",
        "colab": {}
      },
      "source": [
        "# X_test['project_resource_summary'].map(hasNumbers).astype(int)"
      ],
      "execution_count": 0,
      "outputs": []
    },
    {
      "cell_type": "code",
      "metadata": {
        "id": "IjhGs3SsadJ0",
        "colab_type": "code",
        "colab": {}
      },
      "source": [
        "digit_present_train = X_train['project_resource_summary'].map(hasNumbers)\n",
        "digit_present_train = digit_present_train.astype(int)\n",
        "digit_present_test = X_test['project_resource_summary'].map(hasNumbers).astype(int)\n",
        "digit_present_test = digit_present_test.astype(int)"
      ],
      "execution_count": 0,
      "outputs": []
    },
    {
      "cell_type": "code",
      "metadata": {
        "id": "XoNrNej8gZth",
        "colab_type": "code",
        "colab": {}
      },
      "source": [
        "# X_train.head(1)"
      ],
      "execution_count": 0,
      "outputs": []
    },
    {
      "cell_type": "code",
      "metadata": {
        "id": "8RbEIAZkgmRl",
        "colab_type": "code",
        "colab": {}
      },
      "source": [
        "# X_train['digits_present'] = X_train['project_resource_summary'].map(hasNumbers).astype(int)\n",
        "# X_test['digits_present'] = X_test['project_resource_summary'].map(hasNumbers).astype(int)\n",
        "# X_train['processed_teacher_prefix'] = transformCatogarizedData(X_train['teacher_prefix'], teacher_prefix_vector).reshape(-1,1)"
      ],
      "execution_count": 0,
      "outputs": []
    },
    {
      "cell_type": "code",
      "metadata": {
        "id": "Ur75bFwtg-dO",
        "colab_type": "code",
        "colab": {}
      },
      "source": [
        "# X_train.head(1)"
      ],
      "execution_count": 0,
      "outputs": []
    },
    {
      "cell_type": "markdown",
      "metadata": {
        "colab_type": "text",
        "id": "P-xc_4G3Oh-w"
      },
      "source": [
        "<h2>2.3 Make Data Model Ready: encoding eassay, and project_title</h2>"
      ]
    },
    {
      "cell_type": "code",
      "metadata": {
        "colab_type": "code",
        "id": "uiEkXDYWOh-x",
        "colab": {}
      },
      "source": [
        "# #preprocessing essays\n",
        "# essay_train = preprocessTextData(X_train['essay'].values)\n",
        "# essay_test = preprocessTextData(X_test['essay'].values)\n",
        "\n",
        "# #preprocessing titles\n",
        "# title_train = preprocessTextData(X_train['project_title'].values)\n",
        "# title_test = preprocessTextData(X_test['project_title'].values)"
      ],
      "execution_count": 0,
      "outputs": []
    },
    {
      "cell_type": "code",
      "metadata": {
        "colab_type": "code",
        "id": "Q6Ptd4hoV8C_",
        "colab": {}
      },
      "source": [
        "# #creating bow essay and title vectors\n",
        "# essay_bow_vector = fitBow(essay_train)\n",
        "# bow_essay_train = transformBow(essay_train, essay_bow_vector)\n",
        "# bow_essay_test = transformBow(essay_test, essay_bow_vector)\n",
        "\n",
        "# title_bow_vector = fitBow(title_train)\n",
        "# bow_title_train = transformBow(title_train, title_bow_vector)\n",
        "# bow_title_test = transformBow(title_test, title_bow_vector)"
      ],
      "execution_count": 0,
      "outputs": []
    },
    {
      "cell_type": "code",
      "metadata": {
        "colab_type": "code",
        "id": "y-yq5xvSV8DD",
        "colab": {}
      },
      "source": [
        "# #creating tfidf essay and title vectors\n",
        "# essay_tfidf_vector = fitTfidf(essay_train)\n",
        "# tfidf_essay_train = transformTfidf(essay_train, essay_tfidf_vector)\n",
        "# tfidf_essay_test = transformTfidf(essay_test, essay_tfidf_vector)\n",
        "\n",
        "# title_tfidf_vector = fitTfidf(title_train)\n",
        "# tfidf_title_train = transformTfidf(title_train, title_tfidf_vector)\n",
        "# tfidf_title_test = transformTfidf(title_test, title_tfidf_vector)"
      ],
      "execution_count": 0,
      "outputs": []
    },
    {
      "cell_type": "code",
      "metadata": {
        "colab_type": "code",
        "id": "waPDOPrrePxd",
        "colab": {}
      },
      "source": [
        "# #creating avgw2v essay and title vectors\n",
        "# avgw2v_essay_train = fitAvgW2V(essay_train)\n",
        "# avgw2v_essay_test = fitAvgW2V(essay_test)\n",
        "# avgw2v_title_train = fitAvgW2V(title_train)\n",
        "# avgw2v_title_test = fitAvgW2V(title_test)"
      ],
      "execution_count": 0,
      "outputs": []
    },
    {
      "cell_type": "code",
      "metadata": {
        "colab_type": "code",
        "id": "6F710At_ePxg",
        "colab": {}
      },
      "source": [
        "# #creating tfidfw2v essay and title vectors\n",
        "# essay_tfidfw2v_vector = fitTfidfw2v(essay_train)\n",
        "# tfidfw2v_essay_train = transformTfidfw2v(essay_train, essay_tfidfw2v_vector)\n",
        "# tfidfw2v_essay_test = transformTfidfw2v(essay_test, essay_tfidfw2v_vector)\n",
        "# title_tfidfw2v_vector = fitTfidfw2v(title_train)\n",
        "# tfidfw2v_title_train = transformTfidfw2v(title_train, title_tfidfw2v_vector)\n",
        "# tfidfw2v_title_test = transformTfidfw2v(title_test, title_tfidfw2v_vector)"
      ],
      "execution_count": 0,
      "outputs": []
    },
    {
      "cell_type": "code",
      "metadata": {
        "id": "E_XxdERKbKue",
        "colab_type": "code",
        "colab": {}
      },
      "source": [
        "from numpy import array\n",
        "from numpy import asarray\n",
        "from numpy import zeros\n",
        "from keras.preprocessing.text import Tokenizer\n",
        "from keras.preprocessing.sequence import pad_sequences\n",
        "from keras.models import Sequential\n",
        "from keras.layers import Dense\n",
        "from keras.layers import Flatten\n",
        "from keras.layers import Embedding\n",
        "from keras.layers import Input, Embedding, LSTM, Dropout, BatchNormalization, Dense, concatenate, Flatten, Conv1D, MaxPool1D, LeakyReLU, ELU, SpatialDropout1D, MaxPooling1D, GlobalAveragePooling1D, GlobalMaxPooling1D\n",
        "from keras.preprocessing.text import Tokenizer, one_hot\n",
        "from keras.preprocessing.sequence import pad_sequences\n",
        "from keras.models import Model, load_model\n",
        "from keras import regularizers\n",
        "from keras.optimizers import *\n",
        "from keras.callbacks import ModelCheckpoint, EarlyStopping, TensorBoard, ReduceLROnPlateau\n",
        "import warnings\n",
        "warnings.filterwarnings(\"ignore\", category=DeprecationWarning) "
      ],
      "execution_count": 0,
      "outputs": []
    },
    {
      "cell_type": "code",
      "metadata": {
        "id": "Tjg27F6HbiTb",
        "colab_type": "code",
        "colab": {}
      },
      "source": [
        "#tokenizer keras : https://stackoverflow.com/a/51956230\n",
        "tokenizer = Tokenizer()\n",
        "tokenizer.fit_on_texts(X_train[\"essay\"].tolist())\n",
        "seq_train = tokenizer.texts_to_sequences(X_train[\"essay\"])\n",
        "seq_test = tokenizer.texts_to_sequences(X_test[\"essay\"])"
      ],
      "execution_count": 0,
      "outputs": []
    },
    {
      "cell_type": "code",
      "metadata": {
        "id": "-p4TetUecbE-",
        "colab_type": "code",
        "colab": {}
      },
      "source": [
        "#https://learn-neural-networks.com/world-embedding-by-keras/\n",
        "vocab_size = len(tokenizer.word_index) + 1 #if integer data is encoded with values ​​from 0 to 10, then the size of the dictionary will be 11 words."
      ],
      "execution_count": 0,
      "outputs": []
    },
    {
      "cell_type": "code",
      "metadata": {
        "id": "zQQKSB80c31j",
        "colab_type": "code",
        "colab": {}
      },
      "source": [
        "#this is done to make the input to the fisrt layer same length\n",
        "padded_train = pad_sequences(seq_train,maxlen=800,padding='post', truncating='post')\n",
        "padded_test = pad_sequences(seq_test, maxlen=800,padding='post', truncating='post')"
      ],
      "execution_count": 0,
      "outputs": []
    },
    {
      "cell_type": "code",
      "metadata": {
        "id": "Hs7S7XBDdmA0",
        "colab_type": "code",
        "colab": {}
      },
      "source": [
        "pickle_in = open(\"/content/glove_vectors\",\"rb\")\n",
        "glove_words = pickle.load(pickle_in)"
      ],
      "execution_count": 0,
      "outputs": []
    },
    {
      "cell_type": "code",
      "metadata": {
        "id": "9rOkKrgzdMht",
        "colab_type": "code",
        "colab": {}
      },
      "source": [
        "embedding_matrix = zeros((vocab_size, 300))\n",
        "for word, i in tokenizer.word_index.items():\n",
        "    embedding_vector = glove_words.get(word)\n",
        "    if embedding_vector is not None:\n",
        "        embedding_matrix[i] = embedding_vector"
      ],
      "execution_count": 0,
      "outputs": []
    },
    {
      "cell_type": "code",
      "metadata": {
        "id": "OlgnFWrZd3wl",
        "colab_type": "code",
        "colab": {}
      },
      "source": [
        "#https://stats.stackexchange.com/a/305032\n",
        "embedding_layer = Embedding(vocab_size,300,weights=[embedding_matrix],input_length=800,trainable=False)\n",
        "input_text = Input(shape=(800,),name=\"input_text\")\n",
        "x = embedding_layer(input_text)\n",
        "x = LSTM(128,recurrent_dropout=0.5,kernel_regularizer=regularizers.l2(0.001),return_sequences=True)(x)\n",
        "flat_1 = Flatten()(x)"
      ],
      "execution_count": 0,
      "outputs": []
    },
    {
      "cell_type": "code",
      "metadata": {
        "id": "gplveCh9fd2w",
        "colab_type": "code",
        "colab": {
          "base_uri": "https://localhost:8080/",
          "height": 164
        },
        "outputId": "6520e302-3ac9-4646-a956-04afc113e532"
      },
      "source": [
        "X_train.head(1)"
      ],
      "execution_count": 127,
      "outputs": [
        {
          "output_type": "execute_result",
          "data": {
            "text/html": [
              "<div>\n",
              "<style scoped>\n",
              "    .dataframe tbody tr th:only-of-type {\n",
              "        vertical-align: middle;\n",
              "    }\n",
              "\n",
              "    .dataframe tbody tr th {\n",
              "        vertical-align: top;\n",
              "    }\n",
              "\n",
              "    .dataframe thead th {\n",
              "        text-align: right;\n",
              "    }\n",
              "</style>\n",
              "<table border=\"1\" class=\"dataframe\">\n",
              "  <thead>\n",
              "    <tr style=\"text-align: right;\">\n",
              "      <th></th>\n",
              "      <th>Unnamed: 0</th>\n",
              "      <th>id</th>\n",
              "      <th>teacher_id</th>\n",
              "      <th>teacher_prefix</th>\n",
              "      <th>school_state</th>\n",
              "      <th>project_submitted_datetime</th>\n",
              "      <th>project_grade_category</th>\n",
              "      <th>project_title</th>\n",
              "      <th>project_essay_1</th>\n",
              "      <th>project_essay_2</th>\n",
              "      <th>project_essay_3</th>\n",
              "      <th>project_essay_4</th>\n",
              "      <th>project_resource_summary</th>\n",
              "      <th>teacher_number_of_previously_posted_projects</th>\n",
              "      <th>clean_categories</th>\n",
              "      <th>clean_subcategories</th>\n",
              "      <th>essay</th>\n",
              "      <th>price</th>\n",
              "      <th>quantity</th>\n",
              "    </tr>\n",
              "  </thead>\n",
              "  <tbody>\n",
              "    <tr>\n",
              "      <th>67032</th>\n",
              "      <td>166439</td>\n",
              "      <td>p142905</td>\n",
              "      <td>4123c4ddbcd6e77f580974c661461c7c</td>\n",
              "      <td>Ms.</td>\n",
              "      <td>NY</td>\n",
              "      <td>2017-03-28 18:42:38</td>\n",
              "      <td>Grades_6_8</td>\n",
              "      <td>Support our STEM Exploration Lunch Club!</td>\n",
              "      <td>Working in the poorest congressional district ...</td>\n",
              "      <td>Last week, my students discovered that the 3D ...</td>\n",
              "      <td>NaN</td>\n",
              "      <td>NaN</td>\n",
              "      <td>My students need ZomeTools, a bubble kit, and ...</td>\n",
              "      <td>71</td>\n",
              "      <td>Math_Science</td>\n",
              "      <td>AppliedSciences Mathematics</td>\n",
              "      <td>Working in the poorest congressional district ...</td>\n",
              "      <td>363.68</td>\n",
              "      <td>8</td>\n",
              "    </tr>\n",
              "  </tbody>\n",
              "</table>\n",
              "</div>"
            ],
            "text/plain": [
              "       Unnamed: 0       id  ...   price quantity\n",
              "67032      166439  p142905  ...  363.68        8\n",
              "\n",
              "[1 rows x 19 columns]"
            ]
          },
          "metadata": {
            "tags": []
          },
          "execution_count": 127
        }
      ]
    },
    {
      "cell_type": "code",
      "metadata": {
        "id": "fR-SiLqEfO-Z",
        "colab_type": "code",
        "colab": {}
      },
      "source": [
        "# Teacher Prefix\n",
        "no_of_unique_prefix  = X_train[\"teacher_prefix\"].nunique()\n",
        "embed_size_prefix = int(min(np.ceil((no_of_unique_prefix)/2), 50 ))\n",
        "\n",
        "input_prefix = Input(shape=(1,),name=\"teacher_prefix\")\n",
        "embed_prefix = Embedding(no_of_unique_prefix,embed_size_prefix,trainable=True)(input_prefix)\n",
        "flat_2 = Flatten()(embed_prefix)\n",
        "#LabelEncoder : https://stackoverflow.com/a/41774086\n",
        "lab_enc = LabelEncoder()\n",
        "enc_prefix_train = lab_enc.fit_transform(X_train[\"teacher_prefix\"])\n",
        "X_test[\"teacher_prefix\"] = X_test[\"teacher_prefix\"].map(lambda s: ' ' if s not in lab_enc.classes_ else s)\n",
        "lab_enc.classes_ = np.append(lab_enc.classes_, ' ')\n",
        "enc_prefix_test = lab_enc.transform(X_test[\"teacher_prefix\"])"
      ],
      "execution_count": 0,
      "outputs": []
    },
    {
      "cell_type": "code",
      "metadata": {
        "id": "gK5Q5a1nfb3M",
        "colab_type": "code",
        "colab": {}
      },
      "source": [
        "# School State\n",
        "no_of_unique_state  = X_train[\"school_state\"].nunique()\n",
        "embed_size_state= int(min(np.ceil((no_of_unique_state)/2), 50 ))\n",
        "\n",
        "input_state = Input(shape=(1,),name=\"school_prefix\")\n",
        "embed_state = Embedding(no_of_unique_state,embed_size_state,name=\"emb_state\",trainable=True)(input_state)\n",
        "flat_3 = Flatten()(embed_state)\n",
        "enc_state_train = lab_enc.fit_transform(X_train[\"school_state\"])\n",
        "enc_state_test = lab_enc.transform(X_test[\"school_state\"])"
      ],
      "execution_count": 0,
      "outputs": []
    },
    {
      "cell_type": "code",
      "metadata": {
        "id": "BkKNqGQzjJll",
        "colab_type": "code",
        "colab": {}
      },
      "source": [
        "#project_grade_category\n",
        "no_of_unique_grade  = X_train[\"project_grade_category\"].nunique()\n",
        "embed_size_grade = int(min(np.ceil((no_of_unique_grade)/2), 50 ))\n",
        "\n",
        "input_grade= Input(shape=(1,),name=\"grade_cat\")\n",
        "embed_grade = Embedding(no_of_unique_grade,embed_size_grade,name=\"emb_grade\",trainable=True)(input_grade)\n",
        "flat_4 = Flatten()(embed_grade)\n",
        "enc_grade_train = lab_enc.fit_transform(X_train[\"project_grade_category\"])\n",
        "enc_grade_test = lab_enc.transform(X_test[\"project_grade_category\"])"
      ],
      "execution_count": 0,
      "outputs": []
    },
    {
      "cell_type": "code",
      "metadata": {
        "id": "w_BkkndvjQV_",
        "colab_type": "code",
        "colab": {}
      },
      "source": [
        "#project_subject_categories\n",
        "no_of_unique_subcat  = X_train[\"clean_categories\"].nunique()\n",
        "embed_size_subcat = int(min(np.ceil((no_of_unique_subcat)/2), 50 ))\n",
        "\n",
        "input_subcat= Input(shape=(1,),name=\"sub_cat\")\n",
        "embed_subcat = Embedding(no_of_unique_subcat,embed_size_subcat,name=\"emb_subcat\",trainable=True)(input_subcat)\n",
        "flat_5 = Flatten()(embed_subcat)\n",
        "lab_enc = LabelEncoder()\n",
        "enc_subcat_train = lab_enc.fit_transform(X_train[\"clean_categories\"])\n",
        "X_test[\"clean_categories\"] = X_test[\"clean_categories\"].map(lambda s: ' ' if s not in lab_enc.classes_ else s)\n",
        "lab_enc.classes_ = np.append(lab_enc.classes_, ' ')\n",
        "enc_subcat_test= lab_enc.transform(X_test[\"clean_categories\"])"
      ],
      "execution_count": 0,
      "outputs": []
    },
    {
      "cell_type": "code",
      "metadata": {
        "id": "p-L8JxO1jRcE",
        "colab_type": "code",
        "colab": {}
      },
      "source": [
        "#project_subject_subcategories\n",
        "no_of_unique_subcat_1  = X_train[\"clean_subcategories\"].nunique()\n",
        "embed_size_subcat_1 = int(min(np.ceil((no_of_unique_subcat_1)/2), 50 ))\n",
        "\n",
        "input_subcat_1= Input(shape=(1,),name=\"sub_cat_1\")\n",
        "embedding_subcat_1 = Embedding(no_of_unique_subcat_1,embed_size_subcat_1,name=\"emb_subcat_1\",trainable=True)(input_subcat_1)\n",
        "flat_6 = Flatten()(embedding_subcat_1)\n",
        "lab_enc = LabelEncoder()\n",
        "enc_subcat_1_train = lab_enc.fit_transform(X_train[\"clean_subcategories\"])\n",
        "X_test[\"clean_subcategories\"] = X_test[\"clean_subcategories\"].map(lambda s: ' ' if s not in lab_enc.classes_ else s)\n",
        "lab_enc.classes_ = np.append(lab_enc.classes_, ' ')\n",
        "enc_subcat_1_test= lab_enc.transform(X_test[\"clean_subcategories\"])"
      ],
      "execution_count": 0,
      "outputs": []
    },
    {
      "cell_type": "code",
      "metadata": {
        "id": "hcVIhufijUpQ",
        "colab_type": "code",
        "colab": {}
      },
      "source": [
        "numerical_train_a=digit_present_train.values.reshape(-1, 1)\n",
        "numerical_train_b=price_train.reshape(-1, 1)\n",
        "numerical_train_c=quantity_train.reshape(-1, 1)\n",
        "numerical_train_d=previous_projects_train.reshape(-1, 1)\n",
        "numerical_test_a=digit_present_test.values.reshape(-1, 1)\n",
        "numerical_test_b=price_test.reshape(-1, 1)\n",
        "numerical_test_c=quantity_test.reshape(-1, 1)\n",
        "numerical_test_d=previous_projects_test.reshape(-1, 1)\n",
        "numerical_train=np.concatenate((numerical_train_a,numerical_train_b,numerical_train_c,numerical_train_d),axis=1)\n",
        "numerical_test=np.concatenate((numerical_test_a,numerical_test_b,numerical_test_c,numerical_test_d),axis=1)\n",
        "\n",
        "from sklearn.preprocessing import StandardScaler\n",
        "normal=StandardScaler()\n",
        "normal_train=normal.fit_transform(numerical_train)\n",
        "normal_test=normal.transform(numerical_test)"
      ],
      "execution_count": 0,
      "outputs": []
    },
    {
      "cell_type": "code",
      "metadata": {
        "id": "VjsuZJiHyWI-",
        "colab_type": "code",
        "colab": {}
      },
      "source": [
        "numerical_feats = Input(shape=(4,),name=\"numerical_features\")\n",
        "numerical_featss = Dense(100,activation=\"relu\",kernel_initializer=\"he_normal\",kernel_regularizer=regularizers.l2(0.001))(numerical_feats)"
      ],
      "execution_count": 0,
      "outputs": []
    },
    {
      "cell_type": "code",
      "metadata": {
        "id": "NXUHzyixyb9u",
        "colab_type": "code",
        "colab": {}
      },
      "source": [
        "x = concatenate([flat_1,flat_2,flat_3,flat_4,flat_5,flat_6,numerical_featss])\n",
        "x = Dense(128,activation=\"relu\", kernel_initializer=\"he_normal\",kernel_regularizer=regularizers.l2(0.001))(x)\n",
        "x=Dropout(0.5)(x)\n",
        "x = Dense(256,activation=\"relu\",kernel_initializer=\"he_normal\",kernel_regularizer=regularizers.l2(0.001))(x)\n",
        "x=Dropout(0.5)(x)\n",
        "x = Dense(64,activation=\"relu\", kernel_initializer=\"he_normal\",kernel_regularizer=regularizers.l2(0.001))(x)\n",
        "x = BatchNormalization()(x)\n",
        "output = Dense(2, activation='softmax', name='output')(x)\n",
        "model_1 = Model(inputs=[input_text,input_prefix,input_state,input_grade,input_subcat,input_subcat_1,numerical_feats],outputs=[output])"
      ],
      "execution_count": 0,
      "outputs": []
    },
    {
      "cell_type": "code",
      "metadata": {
        "id": "j9rQ4busyh5k",
        "colab_type": "code",
        "colab": {}
      },
      "source": [
        "train_data_1 = [padded_train,enc_prefix_train,enc_state_train,enc_grade_train,enc_subcat_train,enc_subcat_1_train,normal_train]\n",
        "test_data_1 = [padded_test,enc_prefix_test,enc_state_test,enc_grade_test,enc_subcat_test,enc_subcat_1_test,normal_test]"
      ],
      "execution_count": 0,
      "outputs": []
    },
    {
      "cell_type": "code",
      "metadata": {
        "id": "cHW5rj-qylv4",
        "colab_type": "code",
        "colab": {}
      },
      "source": [
        "from keras.utils import np_utils\n",
        "Y_train = np_utils.to_categorical(y_train, 2) \n",
        "Y_test = np_utils.to_categorical(y_test, 2)"
      ],
      "execution_count": 0,
      "outputs": []
    },
    {
      "cell_type": "code",
      "metadata": {
        "id": "kDSXAFmdyrRo",
        "colab_type": "code",
        "colab": {}
      },
      "source": [
        "import tensorflow as tf\n",
        "from sklearn.metrics import roc_auc_score\n",
        "\n",
        "def auroc(y_true, y_pred):\n",
        "    return tf.py_func(roc_auc_score, (y_true, y_pred), tf.double)"
      ],
      "execution_count": 0,
      "outputs": []
    },
    {
      "cell_type": "code",
      "metadata": {
        "id": "OGAHYNU1yvPU",
        "colab_type": "code",
        "colab": {}
      },
      "source": [
        "model_1.compile(optimizer=Adam(lr=0.001), loss='categorical_crossentropy', metrics=[auroc])"
      ],
      "execution_count": 0,
      "outputs": []
    },
    {
      "cell_type": "code",
      "metadata": {
        "id": "F9Vn2C71y0Hz",
        "colab_type": "code",
        "colab": {}
      },
      "source": [
        "checkpoint_3 = ModelCheckpoint(\"model_1.h5\",monitor=\"val_auroc\",mode=\"max\",save_best_only = True,verbose=1)\n",
        "NAME = 'model_1'\n",
        "tensorboard_2 = TensorBoard(log_dir='logss\\{}'.format(NAME),update_freq='epoch',batch_size=512)\n",
        "callbacks_2 = [tensorboard_2,checkpoint_3]"
      ],
      "execution_count": 0,
      "outputs": []
    },
    {
      "cell_type": "code",
      "metadata": {
        "id": "7FtaU3Uey3eG",
        "colab_type": "code",
        "colab": {
          "base_uri": "https://localhost:8080/",
          "height": 1000
        },
        "outputId": "5016d86c-be8d-46cd-cdc1-3e4c447f9f64"
      },
      "source": [
        "history_1 = model_1.fit(train_data_1,Y_train,batch_size=512,\n",
        "                        epochs=15,validation_data=(test_data_1,Y_test),verbose=1,callbacks=callbacks_2)"
      ],
      "execution_count": 141,
      "outputs": [
        {
          "output_type": "stream",
          "text": [
            "Train on 73194 samples, validate on 36051 samples\n",
            "Epoch 1/15\n",
            "73194/73194 [==============================] - 222s 3ms/step - loss: 1.4821 - auroc: 0.5220 - val_loss: 0.9843 - val_auroc: 0.5646\n",
            "\n",
            "Epoch 00001: val_auroc improved from -inf to 0.56460, saving model to model_1.h5\n",
            "Epoch 2/15\n",
            "73194/73194 [==============================] - 221s 3ms/step - loss: 0.8426 - auroc: 0.5991 - val_loss: 0.7400 - val_auroc: 0.7057\n",
            "\n",
            "Epoch 00002: val_auroc improved from 0.56460 to 0.70568, saving model to model_1.h5\n",
            "Epoch 3/15\n",
            "73194/73194 [==============================] - 219s 3ms/step - loss: 0.6613 - auroc: 0.6967 - val_loss: 0.6147 - val_auroc: 0.7412\n",
            "\n",
            "Epoch 00003: val_auroc improved from 0.70568 to 0.74125, saving model to model_1.h5\n",
            "Epoch 4/15\n",
            "73194/73194 [==============================] - 217s 3ms/step - loss: 0.5605 - auroc: 0.7308 - val_loss: 0.5386 - val_auroc: 0.7477\n",
            "\n",
            "Epoch 00004: val_auroc improved from 0.74125 to 0.74767, saving model to model_1.h5\n",
            "Epoch 5/15\n",
            "73194/73194 [==============================] - 217s 3ms/step - loss: 0.5067 - auroc: 0.7390 - val_loss: 0.4884 - val_auroc: 0.7527\n",
            "\n",
            "Epoch 00005: val_auroc improved from 0.74767 to 0.75267, saving model to model_1.h5\n",
            "Epoch 6/15\n",
            "73194/73194 [==============================] - 216s 3ms/step - loss: 0.4722 - auroc: 0.7445 - val_loss: 0.4541 - val_auroc: 0.7522\n",
            "\n",
            "Epoch 00006: val_auroc did not improve from 0.75267\n",
            "Epoch 7/15\n",
            "73194/73194 [==============================] - 215s 3ms/step - loss: 0.4478 - auroc: 0.7469 - val_loss: 0.4444 - val_auroc: 0.7539\n",
            "\n",
            "Epoch 00007: val_auroc improved from 0.75267 to 0.75391, saving model to model_1.h5\n",
            "Epoch 8/15\n",
            "73194/73194 [==============================] - 215s 3ms/step - loss: 0.4328 - auroc: 0.7489 - val_loss: 0.4408 - val_auroc: 0.7540\n",
            "\n",
            "Epoch 00008: val_auroc improved from 0.75391 to 0.75395, saving model to model_1.h5\n",
            "Epoch 9/15\n",
            "73194/73194 [==============================] - 213s 3ms/step - loss: 0.4235 - auroc: 0.7487 - val_loss: 0.4168 - val_auroc: 0.7552\n",
            "\n",
            "Epoch 00009: val_auroc improved from 0.75395 to 0.75518, saving model to model_1.h5\n",
            "Epoch 10/15\n",
            "73194/73194 [==============================] - 212s 3ms/step - loss: 0.4135 - auroc: 0.7518 - val_loss: 0.4106 - val_auroc: 0.7554\n",
            "\n",
            "Epoch 00010: val_auroc improved from 0.75518 to 0.75544, saving model to model_1.h5\n",
            "Epoch 11/15\n",
            "73194/73194 [==============================] - 213s 3ms/step - loss: 0.4083 - auroc: 0.7545 - val_loss: 0.4131 - val_auroc: 0.7546\n",
            "\n",
            "Epoch 00011: val_auroc did not improve from 0.75544\n",
            "Epoch 12/15\n",
            "73194/73194 [==============================] - 213s 3ms/step - loss: 0.4055 - auroc: 0.7553 - val_loss: 0.4023 - val_auroc: 0.7552\n",
            "\n",
            "Epoch 00012: val_auroc did not improve from 0.75544\n",
            "Epoch 13/15\n",
            "73194/73194 [==============================] - 212s 3ms/step - loss: 0.4026 - auroc: 0.7565 - val_loss: 0.4015 - val_auroc: 0.7536\n",
            "\n",
            "Epoch 00013: val_auroc did not improve from 0.75544\n",
            "Epoch 14/15\n",
            "73194/73194 [==============================] - 215s 3ms/step - loss: 0.4005 - auroc: 0.7565 - val_loss: 0.3986 - val_auroc: 0.7547\n",
            "\n",
            "Epoch 00014: val_auroc did not improve from 0.75544\n",
            "Epoch 15/15\n",
            "73194/73194 [==============================] - 212s 3ms/step - loss: 0.3980 - auroc: 0.7576 - val_loss: 0.3984 - val_auroc: 0.7544\n",
            "\n",
            "Epoch 00015: val_auroc did not improve from 0.75544\n"
          ],
          "name": "stdout"
        }
      ]
    },
    {
      "cell_type": "code",
      "metadata": {
        "id": "qRMKNPkl6YcA",
        "colab_type": "code",
        "colab": {
          "base_uri": "https://localhost:8080/",
          "height": 264
        },
        "outputId": "7e0132c8-16c2-4f59-8058-e9c352ad1b56"
      },
      "source": [
        "plt.plot(history_1.history['auroc'], 'r')\n",
        "plt.plot(history_1.history['val_auroc'], 'b')\n",
        "plt.legend({'Train AUC': 'r', 'Test AUC':'b'})\n",
        "plt.grid()\n",
        "plt.show()"
      ],
      "execution_count": 144,
      "outputs": [
        {
          "output_type": "display_data",
          "data": {
            "image/png": "[encoded data removed]",
            "text/plain": [
              "<Figure size 432x288 with 1 Axes>"
            ]
          },
          "metadata": {
            "tags": []
          }
        }
      ]
    },
    {
      "cell_type": "code",
      "metadata": {
        "id": "vWBcyAhR6gaV",
        "colab_type": "code",
        "colab": {
          "base_uri": "https://localhost:8080/",
          "height": 264
        },
        "outputId": "eb64a224-04e6-47ab-a06e-486bf0be73d9"
      },
      "source": [
        "plt.plot(history_1.history['loss'], 'r')\n",
        "plt.plot(history_1.history['val_loss'], 'b')\n",
        "plt.legend({'Train Loss': 'r', 'Test Loss':'b'})\n",
        "plt.grid()\n",
        "plt.show()"
      ],
      "execution_count": 145,
      "outputs": [
        {
          "output_type": "display_data",
          "data": {
            "image/png": "[encoded data removed]",
            "text/plain": [
              "<Figure size 432x288 with 1 Axes>"
            ]
          },
          "metadata": {
            "tags": []
          }
        }
      ]
    },
    {
      "cell_type": "code",
      "metadata": {
        "id": "v_U-aLUnO5Yj",
        "colab_type": "code",
        "colab": {
          "base_uri": "https://localhost:8080/",
          "height": 1000
        },
        "outputId": "b4c71626-db96-4a18-87af-7afaf92dee35"
      },
      "source": [
        "#drawing models\n",
        "tf.keras.utils.plot_model(\n",
        "    model_1,\n",
        "    show_shapes=False,\n",
        "    show_layer_names=True,\n",
        "    rankdir='TB',\n",
        "    expand_nested=False,\n",
        "    dpi=96\n",
        ")"
      ],
      "execution_count": 146,
      "outputs": [
        {
          "output_type": "execute_result",
          "data": {
            "image/png": "[encoded data removed]",
            "text/plain": [
              "<IPython.core.display.Image object>"
            ]
          },
          "metadata": {
            "tags": []
          },
          "execution_count": 146
        }
      ]
    },
    {
      "cell_type": "markdown",
      "metadata": {
        "id": "APquGce1RC4F",
        "colab_type": "text"
      },
      "source": [
        "## Model 2"
      ]
    },
    {
      "cell_type": "code",
      "metadata": {
        "id": "xsvdF7oLPYcn",
        "colab_type": "code",
        "colab": {}
      },
      "source": [
        "tfidf = TfidfVectorizer()\n",
        "_tfidf = tfidf.fit_transform(X_train[\"essay\"])\n",
        "_dict = dict(zip(tfidf.get_feature_names(),list(tfidf.idf_)))\n",
        "tfidf_df = pd.DataFrame(list(_dict.items()), columns=['Words', 'Values'])\n",
        "tfidf_df = tfidf_df.sort_values(by ='Values' )"
      ],
      "execution_count": 0,
      "outputs": []
    },
    {
      "cell_type": "code",
      "metadata": {
        "id": "hNTym8gTRFrT",
        "colab_type": "code",
        "colab": {
          "base_uri": "https://localhost:8080/",
          "height": 302
        },
        "outputId": "c45deb04-a7c2-47c0-e87b-ec482a0612f2"
      },
      "source": [
        "sns.violinplot(x = \"Values\",data=tfidf_df,orient=\"v\")\n",
        "plt.xlabel(\"idf_\")\n",
        "plt.title(\"VIOLIN plot of idf\")"
      ],
      "execution_count": 148,
      "outputs": [
        {
          "output_type": "execute_result",
          "data": {
            "text/plain": [
              "Text(0.5, 1.0, 'VIOLIN plot of idf')"
            ]
          },
          "metadata": {
            "tags": []
          },
          "execution_count": 148
        },
        {
          "output_type": "display_data",
          "data": {
            "image/png": "[encoded data removed]",
            "text/plain": [
              "<Figure size 432x288 with 1 Axes>"
            ]
          },
          "metadata": {
            "tags": []
          }
        }
      ]
    },
    {
      "cell_type": "code",
      "metadata": {
        "id": "v9W4SzVrRLqc",
        "colab_type": "code",
        "colab": {
          "base_uri": "https://localhost:8080/",
          "height": 302
        },
        "outputId": "91c6d98a-1074-4ed9-a00a-53f0df9aa704"
      },
      "source": [
        "sns.boxenplot(x = \"Values\",data=tfidf_df,orient=\"v\")\n",
        "plt.xlabel(\"idf_\")\n",
        "plt.title(\"BOXEN plot of idf\")"
      ],
      "execution_count": 149,
      "outputs": [
        {
          "output_type": "execute_result",
          "data": {
            "text/plain": [
              "Text(0.5, 1.0, 'BOXEN plot of idf')"
            ]
          },
          "metadata": {
            "tags": []
          },
          "execution_count": 149
        },
        {
          "output_type": "display_data",
          "data": {
            "image/png": "[encoded data removed]",
            "text/plain": [
              "<Figure size 432x288 with 1 Axes>"
            ]
          },
          "metadata": {
            "tags": []
          }
        }
      ]
    },
    {
      "cell_type": "code",
      "metadata": {
        "id": "Wv0h9niQRVMl",
        "colab_type": "code",
        "colab": {
          "base_uri": "https://localhost:8080/",
          "height": 302
        },
        "outputId": "b1523b1b-ffcc-4d24-bc7e-7c7cceec447f"
      },
      "source": [
        "sns.boxplot(x = \"Values\",data=tfidf_df,orient=\"v\")\n",
        "plt.xlabel(\"idf_\")\n",
        "plt.title(\"BOX plot of idf\")"
      ],
      "execution_count": 150,
      "outputs": [
        {
          "output_type": "execute_result",
          "data": {
            "text/plain": [
              "Text(0.5, 1.0, 'BOX plot of idf')"
            ]
          },
          "metadata": {
            "tags": []
          },
          "execution_count": 150
        },
        {
          "output_type": "display_data",
          "data": {
            "image/png": "[encoded data removed]",
            "text/plain": [
              "<Figure size 432x288 with 1 Axes>"
            ]
          },
          "metadata": {
            "tags": []
          }
        }
      ]
    },
    {
      "cell_type": "code",
      "metadata": {
        "id": "1BTQ28JnRdQp",
        "colab_type": "code",
        "colab": {
          "base_uri": "https://localhost:8080/",
          "height": 50
        },
        "outputId": "0acd90ae-3069-4011-a3e2-e9fd9818ef26"
      },
      "source": [
        "print(\"0 - 100 Quantiles:\")\n",
        "print(np.percentile(tfidf_df['Values'],np.arange(0, 100, 25)))"
      ],
      "execution_count": 151,
      "outputs": [
        {
          "output_type": "stream",
          "text": [
            "0 - 100 Quantiles:\n",
            "[ 1.00008198  9.56182506 11.1022701  11.50773521]\n"
          ],
          "name": "stdout"
        }
      ]
    },
    {
      "cell_type": "code",
      "metadata": {
        "id": "9Rw3TDXxRgWJ",
        "colab_type": "code",
        "colab": {
          "base_uri": "https://localhost:8080/",
          "height": 100
        },
        "outputId": "5c6a1fa5-d561-4d82-e62c-a39bd95c632e"
      },
      "source": [
        "print(\"1th Percentile\")\n",
        "print(np.percentile(tfidf_df['Values'],1))\n",
        "print(\"\\n27th Percentiles\")\n",
        "print(np.percentile(tfidf_df['Values'],27))"
      ],
      "execution_count": 152,
      "outputs": [
        {
          "output_type": "stream",
          "text": [
            "1th Percentile\n",
            "3.9907038381724194\n",
            "\n",
            "27th Percentiles\n",
            "9.715975741817513\n"
          ],
          "name": "stdout"
        }
      ]
    },
    {
      "cell_type": "code",
      "metadata": {
        "id": "Msx8lBh3RlVR",
        "colab_type": "code",
        "colab": {}
      },
      "source": [
        "tfidf_fil = tfidf_df[(tfidf_df[\"Values\"] >=  np.percentile(tfidf_df['Values'],1)) & (tfidf_df[\"Values\"] <=  np.percentile(tfidf_df['Values'],25))]"
      ],
      "execution_count": 0,
      "outputs": []
    },
    {
      "cell_type": "code",
      "metadata": {
        "id": "F9jthLRNRooA",
        "colab_type": "code",
        "colab": {
          "base_uri": "https://localhost:8080/",
          "height": 302
        },
        "outputId": "9498fb37-b93a-43d9-d728-2f15c273a221"
      },
      "source": [
        "sns.violinplot(x = \"Values\",data=tfidf_fil,orient=\"v\")\n",
        "plt.xlabel(\"idf_\")\n",
        "plt.title(\"VIOLIN plot of idf\")"
      ],
      "execution_count": 154,
      "outputs": [
        {
          "output_type": "execute_result",
          "data": {
            "text/plain": [
              "Text(0.5, 1.0, 'VIOLIN plot of idf')"
            ]
          },
          "metadata": {
            "tags": []
          },
          "execution_count": 154
        },
        {
          "output_type": "display_data",
          "data": {
            "image/png": "[encoded data removed]",
            "text/plain": [
              "<Figure size 432x288 with 1 Axes>"
            ]
          },
          "metadata": {
            "tags": []
          }
        }
      ]
    },
    {
      "cell_type": "code",
      "metadata": {
        "id": "RpzV2NwTRsKI",
        "colab_type": "code",
        "colab": {}
      },
      "source": [
        "fil_words = tfidf_fil[\"Words\"].tolist()"
      ],
      "execution_count": 0,
      "outputs": []
    },
    {
      "cell_type": "code",
      "metadata": {
        "id": "vlHeKL9zR0Om",
        "colab_type": "code",
        "colab": {}
      },
      "source": [
        "tokenizer = Tokenizer()\n",
        "tokenizer.fit_on_texts(fil_words)\n",
        "seq_train = tokenizer.texts_to_sequences(X_train[\"essay\"])\n",
        "seq_test = tokenizer.texts_to_sequences(X_test[\"essay\"])"
      ],
      "execution_count": 0,
      "outputs": []
    },
    {
      "cell_type": "code",
      "metadata": {
        "id": "J9TUi8H4R4SE",
        "colab_type": "code",
        "colab": {}
      },
      "source": [
        "vocab_size = len(tokenizer.word_index) + 1"
      ],
      "execution_count": 0,
      "outputs": []
    },
    {
      "cell_type": "code",
      "metadata": {
        "id": "oVQ7GHEGR_e1",
        "colab_type": "code",
        "colab": {}
      },
      "source": [
        "padded_train = pad_sequences(seq_train,maxlen=800,padding='post', truncating='post')\n",
        "padded_test = pad_sequences(seq_test, maxlen=800,padding='post', truncating='post')"
      ],
      "execution_count": 0,
      "outputs": []
    },
    {
      "cell_type": "code",
      "metadata": {
        "id": "7b3oFsZGSBcF",
        "colab_type": "code",
        "colab": {}
      },
      "source": [
        "embedding_matrix = zeros((vocab_size, 300))\n",
        "for word, i in tokenizer.word_index.items():\n",
        "    embedding_vector = glove_words.get(word)\n",
        "    if embedding_vector is not None:\n",
        "        embedding_matrix[i] = embedding_vector"
      ],
      "execution_count": 0,
      "outputs": []
    },
    {
      "cell_type": "code",
      "metadata": {
        "id": "h-lfn4J-SEac",
        "colab_type": "code",
        "colab": {}
      },
      "source": [
        "# input_text = Input(shape=(800,),name=\"input_text\")\n",
        "embedding_layer = Embedding(vocab_size,300,weights=[embedding_matrix],input_length=800,trainable=False)\n",
        "input_text = Input(shape=(800,),name=\"input_text\")\n",
        "x = embedding_layer(input_text)\n",
        "x = LSTM(128,recurrent_dropout=0.5,kernel_regularizer=regularizers.l2(0.001),return_sequences=True)(x)\n",
        "flat_1 = Flatten()(x)"
      ],
      "execution_count": 0,
      "outputs": []
    },
    {
      "cell_type": "code",
      "metadata": {
        "id": "RyE1o956SL7c",
        "colab_type": "code",
        "colab": {}
      },
      "source": [
        "# Teacher Prefix\n",
        "no_of_unique_prefix  = X_train[\"teacher_prefix\"].nunique()\n",
        "embed_size_prefix = int(min(np.ceil((no_of_unique_prefix)/2), 50 ))\n",
        "\n",
        "input_prefix = Input(shape=(1,),name=\"teacher_prefix\")\n",
        "embed_prefix = Embedding(no_of_unique_prefix,embed_size_prefix,trainable=True)(input_prefix)\n",
        "flat_2 = Flatten()(embed_prefix)\n",
        "lab_enc = LabelEncoder()\n",
        "enc_prefix_train = lab_enc.fit_transform(X_train[\"teacher_prefix\"])\n",
        "X_test[\"teacher_prefix\"] = X_test[\"teacher_prefix\"].map(lambda s: ' ' if s not in lab_enc.classes_ else s)\n",
        "lab_enc.classes_ = np.append(lab_enc.classes_, ' ')\n",
        "enc_prefix_test = lab_enc.transform(X_test[\"teacher_prefix\"])"
      ],
      "execution_count": 0,
      "outputs": []
    },
    {
      "cell_type": "code",
      "metadata": {
        "id": "xk15W3BKSPWo",
        "colab_type": "code",
        "colab": {}
      },
      "source": [
        "# Teacher Prefix\n",
        "no_of_unique_prefix  = X_train[\"teacher_prefix\"].nunique()\n",
        "embed_size_prefix = int(min(np.ceil((no_of_unique_prefix)/2), 50 ))\n",
        "\n",
        "input_prefix = Input(shape=(1,),name=\"teacher_prefix\")\n",
        "embed_prefix = Embedding(no_of_unique_prefix,embed_size_prefix,trainable=True)(input_prefix)\n",
        "flat_2 = Flatten()(embed_prefix)\n",
        "lab_enc = LabelEncoder()\n",
        "enc_prefix_train = lab_enc.fit_transform(X_train[\"teacher_prefix\"])\n",
        "X_test[\"teacher_prefix\"] = X_test[\"teacher_prefix\"].map(lambda s: ' ' if s not in lab_enc.classes_ else s)\n",
        "lab_enc.classes_ = np.append(lab_enc.classes_, ' ')\n",
        "enc_prefix_test = lab_enc.transform(X_test[\"teacher_prefix\"])"
      ],
      "execution_count": 0,
      "outputs": []
    },
    {
      "cell_type": "code",
      "metadata": {
        "id": "aa9DCmm3Sa4f",
        "colab_type": "code",
        "colab": {}
      },
      "source": [
        "# School State\n",
        "no_of_unique_state  = X_train[\"school_state\"].nunique()\n",
        "embed_size_state= int(min(np.ceil((no_of_unique_state)/2), 50 ))\n",
        "\n",
        "input_state = Input(shape=(1,),name=\"school_prefix\")\n",
        "embed_state = Embedding(no_of_unique_state,embed_size_state,name=\"emb_state\",trainable=True)(input_state)\n",
        "flat_3 = Flatten()(embed_state)\n",
        "enc_state_train = lab_enc.fit_transform(X_train[\"school_state\"])\n",
        "enc_state_test = lab_enc.transform(X_test[\"school_state\"])"
      ],
      "execution_count": 0,
      "outputs": []
    },
    {
      "cell_type": "code",
      "metadata": {
        "id": "pTbFhjHrSdLY",
        "colab_type": "code",
        "colab": {}
      },
      "source": [
        "#project_grade_category\n",
        "no_of_unique_grade  = X_train[\"project_grade_category\"].nunique()\n",
        "embed_size_grade = int(min(np.ceil((no_of_unique_grade)/2), 50 ))\n",
        "\n",
        "input_grade= Input(shape=(1,),name=\"grade_cat\")\n",
        "embed_grade = Embedding(no_of_unique_grade,embed_size_grade,name=\"emb_grade\",trainable=True)(input_grade)\n",
        "flat_4 = Flatten()(embed_grade)\n",
        "lab_enc = LabelEncoder()\n",
        "enc_grade_train = lab_enc.fit_transform(X_train[\"project_grade_category\"])\n",
        "enc_grade_test = lab_enc.transform(X_test[\"project_grade_category\"])"
      ],
      "execution_count": 0,
      "outputs": []
    },
    {
      "cell_type": "code",
      "metadata": {
        "id": "mAP2JiCySkRF",
        "colab_type": "code",
        "colab": {}
      },
      "source": [
        "#project_subject_categories\n",
        "no_of_unique_subcat  = X_train[\"clean_categories\"].nunique()\n",
        "embed_size_subcat = int(min(np.ceil((no_of_unique_subcat)/2), 50 ))\n",
        "\n",
        "input_subcat= Input(shape=(1,),name=\"sub_cat\")\n",
        "embed_subcat = Embedding(no_of_unique_subcat,embed_size_subcat,name=\"emb_subcat\",trainable=True)(input_subcat)\n",
        "flat_5 = Flatten()(embed_subcat)\n",
        "lab_enc = LabelEncoder()\n",
        "enc_subcat_train = lab_enc.fit_transform(X_train[\"clean_categories\"])\n",
        "X_test[\"clean_categories\"] = X_test[\"clean_categories\"].map(lambda s: ' ' if s not in lab_enc.classes_ else s)\n",
        "lab_enc.classes_ = np.append(lab_enc.classes_, ' ')\n",
        "enc_subcat_test= lab_enc.transform(X_test[\"clean_categories\"])"
      ],
      "execution_count": 0,
      "outputs": []
    },
    {
      "cell_type": "code",
      "metadata": {
        "id": "_79jhRrESxfz",
        "colab_type": "code",
        "colab": {}
      },
      "source": [
        "#project_subject_subcategories\n",
        "no_of_unique_subcat_1  = X_train[\"clean_subcategories\"].nunique()\n",
        "embed_size_subcat_1 = int(min(np.ceil((no_of_unique_subcat_1)/2), 50 ))\n",
        "\n",
        "input_subcat_1= Input(shape=(1,),name=\"sub_cat_1\")\n",
        "embedding_subcat_1 = Embedding(no_of_unique_subcat_1,embed_size_subcat_1,name=\"emb_subcat_1\",trainable=True)(input_subcat_1)\n",
        "flat_6 = Flatten()(embedding_subcat_1)\n",
        "lab_enc = LabelEncoder()\n",
        "enc_subcat_1_train = lab_enc.fit_transform(X_train[\"clean_subcategories\"])\n",
        "X_test[\"clean_subcategories\"] = X_test[\"clean_subcategories\"].map(lambda s: ' ' if s not in lab_enc.classes_ else s)\n",
        "lab_enc.classes_ = np.append(lab_enc.classes_, ' ')\n",
        "enc_subcat_1_test= lab_enc.transform(X_test[\"clean_subcategories\"])"
      ],
      "execution_count": 0,
      "outputs": []
    },
    {
      "cell_type": "code",
      "metadata": {
        "id": "SZ63BdTVS1B6",
        "colab_type": "code",
        "colab": {}
      },
      "source": [
        "numerical_train_a=digit_present_train.values.reshape(-1, 1)\n",
        "numerical_train_b=price_train.reshape(-1, 1)\n",
        "numerical_train_c=quantity_train.reshape(-1, 1)\n",
        "numerical_train_d=previous_projects_train.reshape(-1, 1)\n",
        "numerical_test_a=digit_present_test.values.reshape(-1, 1)\n",
        "numerical_test_b=price_test.reshape(-1, 1)\n",
        "numerical_test_c=quantity_test.reshape(-1, 1)\n",
        "numerical_test_d=previous_projects_test.reshape(-1, 1)\n",
        "numerical_train=np.concatenate((numerical_train_a,numerical_train_b,numerical_train_c,numerical_train_d),axis=1)\n",
        "numerical_test=np.concatenate((numerical_test_a,numerical_test_b,numerical_test_c,numerical_test_d),axis=1)\n",
        "\n",
        "from sklearn.preprocessing import StandardScaler\n",
        "normal=StandardScaler()\n",
        "normal_train=normal.fit_transform(numerical_train)\n",
        "normal_test=normal.transform(numerical_test)"
      ],
      "execution_count": 0,
      "outputs": []
    },
    {
      "cell_type": "code",
      "metadata": {
        "id": "oprE_HP9TRKU",
        "colab_type": "code",
        "colab": {}
      },
      "source": [
        "numerical_feats = Input(shape=(4,),name=\"numerical_features\")\n",
        "numerical_featss = Dense(100,activation=\"relu\",kernel_initializer=\"he_normal\",kernel_regularizer=regularizers.l2(0.001))(numerical_feats)"
      ],
      "execution_count": 0,
      "outputs": []
    },
    {
      "cell_type": "code",
      "metadata": {
        "id": "lcOwr3ncTWzz",
        "colab_type": "code",
        "colab": {}
      },
      "source": [
        "x = concatenate([flat_1,flat_2,flat_3,flat_4,flat_5,flat_6,numerical_featss])\n",
        "x = Dense(128,activation=\"relu\", kernel_initializer=\"he_normal\",kernel_regularizer=regularizers.l2(0.001))(x)\n",
        "x=Dropout(0.5)(x)\n",
        "x = Dense(256,activation=\"relu\",kernel_initializer=\"he_normal\",kernel_regularizer=regularizers.l2(0.001))(x)\n",
        "x=Dropout(0.5)(x)\n",
        "x = Dense(64,activation=\"relu\", kernel_initializer=\"he_normal\",kernel_regularizer=regularizers.l2(0.001))(x)\n",
        "x = BatchNormalization()(x)\n",
        "output = Dense(2, activation='softmax', name='output')(x)\n",
        "model_2 = Model(inputs=[input_text,input_prefix,input_state,input_grade,input_subcat,input_subcat_1,numerical_feats],outputs=[output])"
      ],
      "execution_count": 0,
      "outputs": []
    },
    {
      "cell_type": "code",
      "metadata": {
        "id": "ggHfsPF6TbJg",
        "colab_type": "code",
        "colab": {}
      },
      "source": [
        "train_data_1 = [padded_train,enc_prefix_train,enc_state_train,enc_grade_train,enc_subcat_train,enc_subcat_1_train,normal_train]\n",
        "test_data_1 = [padded_test,enc_prefix_test,enc_state_test,enc_grade_test,enc_subcat_test,enc_subcat_1_test,normal_test]"
      ],
      "execution_count": 0,
      "outputs": []
    },
    {
      "cell_type": "code",
      "metadata": {
        "id": "qFunF7q-TesH",
        "colab_type": "code",
        "colab": {}
      },
      "source": [
        "from keras.utils import np_utils\n",
        "Y_train = np_utils.to_categorical(y_train, 2) \n",
        "Y_test = np_utils.to_categorical(y_test, 2)"
      ],
      "execution_count": 0,
      "outputs": []
    },
    {
      "cell_type": "code",
      "metadata": {
        "id": "BiGHWZRXTmPe",
        "colab_type": "code",
        "colab": {}
      },
      "source": [
        "import tensorflow as tf\n",
        "from sklearn.metrics import roc_auc_score\n",
        "\n",
        "def auroc(y_true, y_pred):\n",
        "    return tf.py_func(roc_auc_score, (y_true, y_pred), tf.double)"
      ],
      "execution_count": 0,
      "outputs": []
    },
    {
      "cell_type": "code",
      "metadata": {
        "id": "OmOAoFdDTp8d",
        "colab_type": "code",
        "colab": {}
      },
      "source": [
        "model_2.compile(optimizer=Adam(lr=0.001), loss='categorical_crossentropy', metrics=[auroc])"
      ],
      "execution_count": 0,
      "outputs": []
    },
    {
      "cell_type": "code",
      "metadata": {
        "id": "fbH29LBRTsUk",
        "colab_type": "code",
        "colab": {}
      },
      "source": [
        "checkpoint_3 = ModelCheckpoint(\"model_2.h5\",monitor=\"val_auroc\",mode=\"max\",save_best_only = True,verbose=1)\n",
        "NAME = 'model_2'\n",
        "tensorboard_2 = TensorBoard(log_dir='logss\\{}'.format(NAME),update_freq='epoch',batch_size=512)\n",
        "callbacks_2 = [tensorboard_2,checkpoint_3]"
      ],
      "execution_count": 0,
      "outputs": []
    },
    {
      "cell_type": "code",
      "metadata": {
        "id": "XziNVBYSTvDP",
        "colab_type": "code",
        "colab": {
          "base_uri": "https://localhost:8080/",
          "height": 1000
        },
        "outputId": "a65e9b36-a909-427e-e1a0-67b6f543572c"
      },
      "source": [
        "history_2 = model_2.fit(train_data_1,Y_train,batch_size=512,epochs=15,validation_data=(test_data_1,Y_test),verbose=1,callbacks=callbacks_2)"
      ],
      "execution_count": 182,
      "outputs": [
        {
          "output_type": "stream",
          "text": [
            "Train on 73194 samples, validate on 36051 samples\n",
            "Epoch 1/15\n",
            "73194/73194 [==============================] - 222s 3ms/step - loss: 1.3164 - auroc: 0.5421 - val_loss: 0.8942 - val_auroc: 0.6686\n",
            "\n",
            "Epoch 00001: val_auroc improved from -inf to 0.66858, saving model to model_2.h5\n",
            "Epoch 2/15\n",
            "73194/73194 [==============================] - 221s 3ms/step - loss: 0.7802 - auroc: 0.6160 - val_loss: 0.6864 - val_auroc: 0.6885\n",
            "\n",
            "Epoch 00002: val_auroc improved from 0.66858 to 0.68845, saving model to model_2.h5\n",
            "Epoch 3/15\n",
            "73194/73194 [==============================] - 216s 3ms/step - loss: 0.6157 - auroc: 0.6843 - val_loss: 0.5960 - val_auroc: 0.7024\n",
            "\n",
            "Epoch 00003: val_auroc improved from 0.68845 to 0.70240, saving model to model_2.h5\n",
            "Epoch 4/15\n",
            "73194/73194 [==============================] - 216s 3ms/step - loss: 0.5436 - auroc: 0.6954 - val_loss: 0.5339 - val_auroc: 0.7062\n",
            "\n",
            "Epoch 00004: val_auroc improved from 0.70240 to 0.70618, saving model to model_2.h5\n",
            "Epoch 5/15\n",
            "73194/73194 [==============================] - 214s 3ms/step - loss: 0.4981 - auroc: 0.6984 - val_loss: 0.5006 - val_auroc: 0.7053\n",
            "\n",
            "Epoch 00005: val_auroc did not improve from 0.70618\n",
            "Epoch 6/15\n",
            "73194/73194 [==============================] - 214s 3ms/step - loss: 0.4727 - auroc: 0.7019 - val_loss: 0.4668 - val_auroc: 0.7085\n",
            "\n",
            "Epoch 00006: val_auroc improved from 0.70618 to 0.70851, saving model to model_2.h5\n",
            "Epoch 7/15\n",
            "73194/73194 [==============================] - 214s 3ms/step - loss: 0.4498 - auroc: 0.7076 - val_loss: 0.4547 - val_auroc: 0.7105\n",
            "\n",
            "Epoch 00007: val_auroc improved from 0.70851 to 0.71048, saving model to model_2.h5\n",
            "Epoch 8/15\n",
            "73194/73194 [==============================] - 213s 3ms/step - loss: 0.4396 - auroc: 0.7094 - val_loss: 0.4333 - val_auroc: 0.7132\n",
            "\n",
            "Epoch 00008: val_auroc improved from 0.71048 to 0.71321, saving model to model_2.h5\n",
            "Epoch 9/15\n",
            "73194/73194 [==============================] - 213s 3ms/step - loss: 0.4255 - auroc: 0.7170 - val_loss: 0.4237 - val_auroc: 0.7135\n",
            "\n",
            "Epoch 00009: val_auroc improved from 0.71321 to 0.71349, saving model to model_2.h5\n",
            "Epoch 10/15\n",
            "73194/73194 [==============================] - 212s 3ms/step - loss: 0.4191 - auroc: 0.7175 - val_loss: 0.4197 - val_auroc: 0.7118\n",
            "\n",
            "Epoch 00010: val_auroc did not improve from 0.71349\n",
            "Epoch 11/15\n",
            "73194/73194 [==============================] - 211s 3ms/step - loss: 0.4156 - auroc: 0.7204 - val_loss: 0.4169 - val_auroc: 0.7158\n",
            "\n",
            "Epoch 00011: val_auroc improved from 0.71349 to 0.71578, saving model to model_2.h5\n",
            "Epoch 12/15\n",
            "73194/73194 [==============================] - 210s 3ms/step - loss: 0.4141 - auroc: 0.7208 - val_loss: 0.4204 - val_auroc: 0.7107\n",
            "\n",
            "Epoch 00012: val_auroc did not improve from 0.71578\n",
            "Epoch 13/15\n",
            "73194/73194 [==============================] - 210s 3ms/step - loss: 0.4101 - auroc: 0.7223 - val_loss: 0.4224 - val_auroc: 0.7143\n",
            "\n",
            "Epoch 00013: val_auroc did not improve from 0.71578\n",
            "Epoch 14/15\n",
            "73194/73194 [==============================] - 210s 3ms/step - loss: 0.4097 - auroc: 0.7241 - val_loss: 0.4129 - val_auroc: 0.7132\n",
            "\n",
            "Epoch 00014: val_auroc did not improve from 0.71578\n",
            "Epoch 15/15\n",
            "73194/73194 [==============================] - 210s 3ms/step - loss: 0.4070 - auroc: 0.7264 - val_loss: 0.4157 - val_auroc: 0.7156\n",
            "\n",
            "Epoch 00015: val_auroc did not improve from 0.71578\n"
          ],
          "name": "stdout"
        }
      ]
    },
    {
      "cell_type": "code",
      "metadata": {
        "id": "BwSUExmuUHYH",
        "colab_type": "code",
        "colab": {
          "base_uri": "https://localhost:8080/",
          "height": 264
        },
        "outputId": "b620a111-9325-42bc-a119-6544392bff2b"
      },
      "source": [
        "plt.plot(history_2.history['auroc'], 'r')\n",
        "plt.plot(history_2.history['val_auroc'], 'b')\n",
        "plt.legend({'Train ROCAUC': 'r', 'Test ROCAUC':'b'})\n",
        "plt.grid()\n",
        "plt.show()\n"
      ],
      "execution_count": 183,
      "outputs": [
        {
          "output_type": "display_data",
          "data": {
            "image/png": "[encoded data removed]",
            "text/plain": [
              "<Figure size 432x288 with 1 Axes>"
            ]
          },
          "metadata": {
            "tags": []
          }
        }
      ]
    },
    {
      "cell_type": "code",
      "metadata": {
        "id": "vdpyGAmAg1bm",
        "colab_type": "code",
        "colab": {
          "base_uri": "https://localhost:8080/",
          "height": 264
        },
        "outputId": "311f5851-13b5-41b2-c7c8-7de8acea1c5f"
      },
      "source": [
        "plt.plot(history_1.history['loss'], 'r')\n",
        "plt.plot(history_1.history['val_loss'], 'b')\n",
        "plt.legend({'Train Loss': 'r', 'Test Loss':'b'})\n",
        "plt.grid()\n",
        "plt.show()"
      ],
      "execution_count": 184,
      "outputs": [
        {
          "output_type": "display_data",
          "data": {
            "image/png": "[encoded data removed]",
            "text/plain": [
              "<Figure size 432x288 with 1 Axes>"
            ]
          },
          "metadata": {
            "tags": []
          }
        }
      ]
    },
    {
      "cell_type": "code",
      "metadata": {
        "id": "C37ytko0g9nT",
        "colab_type": "code",
        "colab": {
          "base_uri": "https://localhost:8080/",
          "height": 1000
        },
        "outputId": "7f755aa1-a2de-4869-8384-fed5c8d92930"
      },
      "source": [
        "#drawing models\n",
        "tf.keras.utils.plot_model(\n",
        "    model_2,\n",
        "    show_shapes=False,\n",
        "    show_layer_names=True,\n",
        "    rankdir='TB',\n",
        "    expand_nested=False,\n",
        "    dpi=96\n",
        ")"
      ],
      "execution_count": 185,
      "outputs": [
        {
          "output_type": "execute_result",
          "data": {
            "image/png": "[encoded data removed]",
            "text/plain": [
              "<IPython.core.display.Image object>"
            ]
          },
          "metadata": {
            "tags": []
          },
          "execution_count": 185
        }
      ]
    },
    {
      "cell_type": "code",
      "metadata": {
        "id": "C4ZP90C4h3sG",
        "colab_type": "code",
        "colab": {}
      },
      "source": [
        ""
      ],
      "execution_count": 0,
      "outputs": []
    }
  ]
}